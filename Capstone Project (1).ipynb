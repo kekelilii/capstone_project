{
 "cells": [
  {
   "cell_type": "code",
   "execution_count": 115,
   "id": "46b0af0c",
   "metadata": {},
   "outputs": [],
   "source": [
    "#Import packages\n",
    "import numpy as np\n",
    "import pandas as pd\n",
    "import matplotlib.pyplot as plt\n",
    "from scipy import stats\n",
    "from sklearn.decomposition import PCA\n",
    "from sklearn.cluster import KMeans\n",
    "from sklearn.metrics import silhouette_samples\n",
    "from sklearn.cluster import DBSCAN"
   ]
  },
  {
   "cell_type": "code",
   "execution_count": 3,
   "id": "009b6f2a",
   "metadata": {},
   "outputs": [
    {
     "data": {
      "text/html": [
       "<div>\n",
       "<style scoped>\n",
       "    .dataframe tbody tr th:only-of-type {\n",
       "        vertical-align: middle;\n",
       "    }\n",
       "\n",
       "    .dataframe tbody tr th {\n",
       "        vertical-align: top;\n",
       "    }\n",
       "\n",
       "    .dataframe thead th {\n",
       "        text-align: right;\n",
       "    }\n",
       "</style>\n",
       "<table border=\"1\" class=\"dataframe\">\n",
       "  <thead>\n",
       "    <tr style=\"text-align: right;\">\n",
       "      <th></th>\n",
       "      <th>The Life of David Gale (2003)</th>\n",
       "      <th>Wing Commander (1999)</th>\n",
       "      <th>Django Unchained (2012)</th>\n",
       "      <th>Alien (1979)</th>\n",
       "      <th>Indiana Jones and the Last Crusade (1989)</th>\n",
       "      <th>Snatch (2000)</th>\n",
       "      <th>Rambo: First Blood Part II (1985)</th>\n",
       "      <th>Fargo (1996)</th>\n",
       "      <th>Let the Right One In (2008)</th>\n",
       "      <th>Black Swan (2010)</th>\n",
       "      <th>...</th>\n",
       "      <th>When watching a movie I cheer or shout or talk or curse at the screen</th>\n",
       "      <th>When watching a movie I feel like the things on the screen are happening to me</th>\n",
       "      <th>As a movie unfolds I start to have problems keeping track of events that happened earlier</th>\n",
       "      <th>The emotions on the screen \"rub off\" on me - for instance if something sad is happening I get sad or if something frightening is happening I get scared</th>\n",
       "      <th>When watching a movie I get completely immersed in the alternative reality of the film</th>\n",
       "      <th>Movies change my position on social economic or political issues</th>\n",
       "      <th>When watching movies things get so intense that I have to stop watching</th>\n",
       "      <th>Gender identity (1 = female; 2 = male; 3 = self-described)</th>\n",
       "      <th>Are you an only child? (1: Yes; 0: No; -1: Did not respond)</th>\n",
       "      <th>Movies are best enjoyed alone (1: Yes; 0: No; -1: Did not respond)</th>\n",
       "    </tr>\n",
       "  </thead>\n",
       "  <tbody>\n",
       "    <tr>\n",
       "      <th>0</th>\n",
       "      <td>NaN</td>\n",
       "      <td>NaN</td>\n",
       "      <td>4.0</td>\n",
       "      <td>NaN</td>\n",
       "      <td>3.0</td>\n",
       "      <td>NaN</td>\n",
       "      <td>NaN</td>\n",
       "      <td>NaN</td>\n",
       "      <td>NaN</td>\n",
       "      <td>NaN</td>\n",
       "      <td>...</td>\n",
       "      <td>1.0</td>\n",
       "      <td>6.0</td>\n",
       "      <td>2.0</td>\n",
       "      <td>5.0</td>\n",
       "      <td>5.0</td>\n",
       "      <td>5.0</td>\n",
       "      <td>1.0</td>\n",
       "      <td>1.0</td>\n",
       "      <td>0</td>\n",
       "      <td>1</td>\n",
       "    </tr>\n",
       "    <tr>\n",
       "      <th>1</th>\n",
       "      <td>NaN</td>\n",
       "      <td>NaN</td>\n",
       "      <td>1.5</td>\n",
       "      <td>NaN</td>\n",
       "      <td>NaN</td>\n",
       "      <td>NaN</td>\n",
       "      <td>NaN</td>\n",
       "      <td>NaN</td>\n",
       "      <td>NaN</td>\n",
       "      <td>NaN</td>\n",
       "      <td>...</td>\n",
       "      <td>3.0</td>\n",
       "      <td>1.0</td>\n",
       "      <td>1.0</td>\n",
       "      <td>6.0</td>\n",
       "      <td>5.0</td>\n",
       "      <td>3.0</td>\n",
       "      <td>2.0</td>\n",
       "      <td>1.0</td>\n",
       "      <td>0</td>\n",
       "      <td>0</td>\n",
       "    </tr>\n",
       "    <tr>\n",
       "      <th>2</th>\n",
       "      <td>NaN</td>\n",
       "      <td>NaN</td>\n",
       "      <td>NaN</td>\n",
       "      <td>NaN</td>\n",
       "      <td>NaN</td>\n",
       "      <td>NaN</td>\n",
       "      <td>NaN</td>\n",
       "      <td>NaN</td>\n",
       "      <td>NaN</td>\n",
       "      <td>NaN</td>\n",
       "      <td>...</td>\n",
       "      <td>5.0</td>\n",
       "      <td>4.0</td>\n",
       "      <td>3.0</td>\n",
       "      <td>5.0</td>\n",
       "      <td>5.0</td>\n",
       "      <td>4.0</td>\n",
       "      <td>4.0</td>\n",
       "      <td>1.0</td>\n",
       "      <td>1</td>\n",
       "      <td>0</td>\n",
       "    </tr>\n",
       "    <tr>\n",
       "      <th>3</th>\n",
       "      <td>NaN</td>\n",
       "      <td>NaN</td>\n",
       "      <td>2.0</td>\n",
       "      <td>NaN</td>\n",
       "      <td>3.0</td>\n",
       "      <td>NaN</td>\n",
       "      <td>NaN</td>\n",
       "      <td>NaN</td>\n",
       "      <td>NaN</td>\n",
       "      <td>4.0</td>\n",
       "      <td>...</td>\n",
       "      <td>3.0</td>\n",
       "      <td>1.0</td>\n",
       "      <td>1.0</td>\n",
       "      <td>4.0</td>\n",
       "      <td>5.0</td>\n",
       "      <td>3.0</td>\n",
       "      <td>1.0</td>\n",
       "      <td>1.0</td>\n",
       "      <td>0</td>\n",
       "      <td>1</td>\n",
       "    </tr>\n",
       "    <tr>\n",
       "      <th>4</th>\n",
       "      <td>NaN</td>\n",
       "      <td>NaN</td>\n",
       "      <td>3.5</td>\n",
       "      <td>NaN</td>\n",
       "      <td>0.5</td>\n",
       "      <td>NaN</td>\n",
       "      <td>0.5</td>\n",
       "      <td>1.0</td>\n",
       "      <td>NaN</td>\n",
       "      <td>0.0</td>\n",
       "      <td>...</td>\n",
       "      <td>2.0</td>\n",
       "      <td>3.0</td>\n",
       "      <td>2.0</td>\n",
       "      <td>5.0</td>\n",
       "      <td>6.0</td>\n",
       "      <td>4.0</td>\n",
       "      <td>4.0</td>\n",
       "      <td>1.0</td>\n",
       "      <td>1</td>\n",
       "      <td>1</td>\n",
       "    </tr>\n",
       "  </tbody>\n",
       "</table>\n",
       "<p>5 rows × 477 columns</p>\n",
       "</div>"
      ],
      "text/plain": [
       "   The Life of David Gale (2003)  Wing Commander (1999)  \\\n",
       "0                            NaN                    NaN   \n",
       "1                            NaN                    NaN   \n",
       "2                            NaN                    NaN   \n",
       "3                            NaN                    NaN   \n",
       "4                            NaN                    NaN   \n",
       "\n",
       "   Django Unchained (2012)  Alien (1979)  \\\n",
       "0                      4.0           NaN   \n",
       "1                      1.5           NaN   \n",
       "2                      NaN           NaN   \n",
       "3                      2.0           NaN   \n",
       "4                      3.5           NaN   \n",
       "\n",
       "   Indiana Jones and the Last Crusade (1989)  Snatch (2000)  \\\n",
       "0                                        3.0            NaN   \n",
       "1                                        NaN            NaN   \n",
       "2                                        NaN            NaN   \n",
       "3                                        3.0            NaN   \n",
       "4                                        0.5            NaN   \n",
       "\n",
       "   Rambo: First Blood Part II (1985)  Fargo (1996)  \\\n",
       "0                                NaN           NaN   \n",
       "1                                NaN           NaN   \n",
       "2                                NaN           NaN   \n",
       "3                                NaN           NaN   \n",
       "4                                0.5           1.0   \n",
       "\n",
       "   Let the Right One In (2008)  Black Swan (2010)  ...  \\\n",
       "0                          NaN                NaN  ...   \n",
       "1                          NaN                NaN  ...   \n",
       "2                          NaN                NaN  ...   \n",
       "3                          NaN                4.0  ...   \n",
       "4                          NaN                0.0  ...   \n",
       "\n",
       "   When watching a movie I cheer or shout or talk or curse at the screen  \\\n",
       "0                                                1.0                       \n",
       "1                                                3.0                       \n",
       "2                                                5.0                       \n",
       "3                                                3.0                       \n",
       "4                                                2.0                       \n",
       "\n",
       "   When watching a movie I feel like the things on the screen are happening to me  \\\n",
       "0                                                6.0                                \n",
       "1                                                1.0                                \n",
       "2                                                4.0                                \n",
       "3                                                1.0                                \n",
       "4                                                3.0                                \n",
       "\n",
       "   As a movie unfolds I start to have problems keeping track of events that happened earlier  \\\n",
       "0                                                2.0                                           \n",
       "1                                                1.0                                           \n",
       "2                                                3.0                                           \n",
       "3                                                1.0                                           \n",
       "4                                                2.0                                           \n",
       "\n",
       "   The emotions on the screen \"rub off\" on me - for instance if something sad is happening I get sad or if something frightening is happening I get scared  \\\n",
       "0                                                5.0                                                                                                         \n",
       "1                                                6.0                                                                                                         \n",
       "2                                                5.0                                                                                                         \n",
       "3                                                4.0                                                                                                         \n",
       "4                                                5.0                                                                                                         \n",
       "\n",
       "   When watching a movie I get completely immersed in the alternative reality of the film  \\\n",
       "0                                                5.0                                        \n",
       "1                                                5.0                                        \n",
       "2                                                5.0                                        \n",
       "3                                                5.0                                        \n",
       "4                                                6.0                                        \n",
       "\n",
       "   Movies change my position on social economic or political issues  \\\n",
       "0                                                5.0                  \n",
       "1                                                3.0                  \n",
       "2                                                4.0                  \n",
       "3                                                3.0                  \n",
       "4                                                4.0                  \n",
       "\n",
       "   When watching movies things get so intense that I have to stop watching  \\\n",
       "0                                                1.0                         \n",
       "1                                                2.0                         \n",
       "2                                                4.0                         \n",
       "3                                                1.0                         \n",
       "4                                                4.0                         \n",
       "\n",
       "   Gender identity (1 = female; 2 = male; 3 = self-described)  \\\n",
       "0                                                1.0            \n",
       "1                                                1.0            \n",
       "2                                                1.0            \n",
       "3                                                1.0            \n",
       "4                                                1.0            \n",
       "\n",
       "   Are you an only child? (1: Yes; 0: No; -1: Did not respond)  \\\n",
       "0                                                  0             \n",
       "1                                                  0             \n",
       "2                                                  1             \n",
       "3                                                  0             \n",
       "4                                                  1             \n",
       "\n",
       "   Movies are best enjoyed alone (1: Yes; 0: No; -1: Did not respond)  \n",
       "0                                                  1                   \n",
       "1                                                  0                   \n",
       "2                                                  0                   \n",
       "3                                                  1                   \n",
       "4                                                  1                   \n",
       "\n",
       "[5 rows x 477 columns]"
      ]
     },
     "execution_count": 3,
     "metadata": {},
     "output_type": "execute_result"
    }
   ],
   "source": [
    "#Import data\n",
    "data = pd.read_csv(\"data/movieReplicationSet.csv\")\n",
    "\n",
    "data.head()"
   ]
  },
  {
   "cell_type": "code",
   "execution_count": 5,
   "id": "85882c14",
   "metadata": {},
   "outputs": [],
   "source": [
    "df = pd.DataFrame(data)\n",
    "\n",
    "#Grouping\n",
    "sensation = df.iloc[:,400:420]\n",
    "personality = df.iloc[:,420:464]\n",
    "experience = df.iloc[:,464:474]\n",
    "\n",
    "sensation = sensation.dropna()\n",
    "personality = personality.dropna()\n",
    "experience = experience.dropna()"
   ]
  },
  {
   "cell_type": "markdown",
   "id": "62a83f57",
   "metadata": {},
   "source": [
    "## 1) What is the relationship between sensation seeking and movie experience?"
   ]
  },
  {
   "cell_type": "code",
   "execution_count": 37,
   "id": "fa43150e",
   "metadata": {},
   "outputs": [],
   "source": [
    "#Data cleaning\n",
    "sensation_experience = pd.concat([df.iloc[:,400:420],df.iloc[:,464:474]],axis = 1)\n",
    "sensation_experience = sensation_experience.dropna()\n",
    "\n",
    "sensation_q1 = sensation_experience.iloc[:,0:20]\n",
    "experience_q1 = sensation_experience.iloc[:,20:]"
   ]
  },
  {
   "cell_type": "code",
   "execution_count": 385,
   "id": "6c4b2da7",
   "metadata": {},
   "outputs": [
    {
     "name": "stdout",
     "output_type": "stream",
     "text": [
      "17.45\n",
      "8.887\n",
      "8.191\n",
      "6.537\n",
      "5.787\n",
      "5.218\n",
      "4.927\n",
      "4.817\n",
      "4.494\n",
      "4.288\n",
      "3.976\n",
      "3.729\n",
      "3.702\n",
      "3.356\n",
      "3.074\n",
      "2.945\n",
      "2.779\n",
      "2.503\n",
      "1.718\n",
      "1.621\n"
     ]
    },
    {
     "data": {
      "image/png": "[encoded data removed]",
      "text/plain": [
       "<Figure size 432x288 with 1 Axes>"
      ]
     },
     "metadata": {
      "needs_background": "light"
     },
     "output_type": "display_data"
    },
    {
     "name": "stdout",
     "output_type": "stream",
     "text": [
      "Number of factors selected by Kaiser criterion: 6\n",
      "Number of factors selected by elbow criterion: 1\n",
      "Number of factors to account for at least 90% variance: 16\n"
     ]
    },
    {
     "data": {
      "text/plain": [
       "Text(0, 0.5, 'Loading')"
      ]
     },
     "execution_count": 385,
     "metadata": {},
     "output_type": "execute_result"
    },
    {
     "data": {
      "image/png": "[encoded data removed]",
      "text/plain": [
       "<Figure size 432x288 with 1 Axes>"
      ]
     },
     "metadata": {
      "needs_background": "light"
     },
     "output_type": "display_data"
    }
   ],
   "source": [
    "#PCA for \"Sensation seeking\"\n",
    "zscoredData = stats.zscore(sensation_q1)\n",
    "pca = PCA().fit(zscoredData)\n",
    "eigVals = pca.explained_variance_\n",
    "loadings = pca.components_\n",
    "rotatedData1 = pd.DataFrame(pca.fit_transform(zscoredData))\n",
    "\n",
    "covarExplained = eigVals/sum(eigVals)*100\n",
    "for ii in range(len(covarExplained)):\n",
    "    print(covarExplained[ii].round(3))\n",
    "\n",
    "question = 20\n",
    "x = np.linspace(1,question,question)\n",
    "plt.bar(x, eigVals, color='gray')\n",
    "plt.plot([0,question],[1,1],color='orange') # Orange Kaiser criterion line for the fox\n",
    "plt.xlabel('Principal component')\n",
    "plt.ylabel('Eigenvalue')\n",
    "plt.show()\n",
    "\n",
    "threshold = 1\n",
    "print('Number of factors selected by Kaiser criterion:', np.count_nonzero(eigVals > threshold))\n",
    "print('Number of factors selected by elbow criterion: 1')\n",
    "threshold = 90\n",
    "eigSum = np.cumsum(covarExplained)\n",
    "print('Number of factors to account for at least 90% variance:', np.count_nonzero(eigSum < threshold) + 1)\n",
    "\n",
    "whichPrincipalComponent = 1 # Select and look at once factor at a time \n",
    "plt.bar(x,loadings[whichPrincipalComponent,:]*-1) # note: eigVecs multiplied by -1\n",
    "plt.xlabel('Question')\n",
    "plt.ylabel('Loading')\n"
   ]
  },
  {
   "cell_type": "code",
   "execution_count": 386,
   "id": "22e37e47",
   "metadata": {},
   "outputs": [
    {
     "name": "stdout",
     "output_type": "stream",
     "text": [
      "29.481\n",
      "18.776\n",
      "8.761\n",
      "8.488\n",
      "7.666\n",
      "6.978\n",
      "5.751\n",
      "5.551\n",
      "4.402\n",
      "4.146\n"
     ]
    },
    {
     "data": {
      "image/png": "[encoded data removed]",
      "text/plain": [
       "<Figure size 432x288 with 1 Axes>"
      ]
     },
     "metadata": {
      "needs_background": "light"
     },
     "output_type": "display_data"
    },
    {
     "name": "stdout",
     "output_type": "stream",
     "text": [
      "Number of factors selected by Kaiser criterion: 2\n",
      "Number of factors selected by elbow criterion: 1\n",
      "Number of factors to account for at least 90% variance: 8\n"
     ]
    },
    {
     "data": {
      "text/plain": [
       "Text(0, 0.5, 'Loading')"
      ]
     },
     "execution_count": 386,
     "metadata": {},
     "output_type": "execute_result"
    },
    {
     "data": {
      "image/png": "[encoded data removed]",
      "text/plain": [
       "<Figure size 432x288 with 1 Axes>"
      ]
     },
     "metadata": {
      "needs_background": "light"
     },
     "output_type": "display_data"
    }
   ],
   "source": [
    "#PCA for \"Movie Experience\"\n",
    "zscoredData = stats.zscore(experience_q1)\n",
    "pca = PCA().fit(zscoredData)\n",
    "eigVals = pca.explained_variance_\n",
    "loadings = pca.components_\n",
    "rotatedData2 = pd.DataFrame(pca.fit_transform(zscoredData))\n",
    "covarExplained = eigVals/sum(eigVals)*100\n",
    "for ii in range(len(covarExplained)):\n",
    "    print(covarExplained[ii].round(3))\n",
    "\n",
    "question = 10\n",
    "x = np.linspace(1,question,question)\n",
    "plt.bar(x, eigVals, color='gray')\n",
    "plt.plot([0,question],[1,1],color='orange') # Orange Kaiser criterion line for the fox\n",
    "plt.xlabel('Principal component')\n",
    "plt.ylabel('Eigenvalue')\n",
    "plt.show()\n",
    "\n",
    "threshold = 1\n",
    "print('Number of factors selected by Kaiser criterion:', np.count_nonzero(eigVals > threshold))\n",
    "print('Number of factors selected by elbow criterion: 1')\n",
    "threshold = 90\n",
    "eigSum = np.cumsum(covarExplained)\n",
    "print('Number of factors to account for at least 90% variance:', np.count_nonzero(eigSum < threshold) + 1)\n",
    "\n",
    "whichPrincipalComponent = 1 # Select and look at once factor at a time \n",
    "plt.bar(x,loadings[whichPrincipalComponent,:]*-1) # note: eigVecs multiplied by -1\n",
    "plt.xlabel('Question')\n",
    "plt.ylabel('Loading')\n"
   ]
  },
  {
   "cell_type": "code",
   "execution_count": 392,
   "id": "851aaadb",
   "metadata": {},
   "outputs": [
    {
     "data": {
      "text/html": [
       "<div>\n",
       "<style scoped>\n",
       "    .dataframe tbody tr th:only-of-type {\n",
       "        vertical-align: middle;\n",
       "    }\n",
       "\n",
       "    .dataframe tbody tr th {\n",
       "        vertical-align: top;\n",
       "    }\n",
       "\n",
       "    .dataframe thead th {\n",
       "        text-align: right;\n",
       "    }\n",
       "</style>\n",
       "<table border=\"1\" class=\"dataframe\">\n",
       "  <thead>\n",
       "    <tr style=\"text-align: right;\">\n",
       "      <th></th>\n",
       "      <th>S1PC</th>\n",
       "      <th>S2PC</th>\n",
       "      <th>S3PC</th>\n",
       "      <th>S4PC</th>\n",
       "      <th>S5PC</th>\n",
       "      <th>E1PC</th>\n",
       "      <th>E2PC</th>\n",
       "    </tr>\n",
       "  </thead>\n",
       "  <tbody>\n",
       "    <tr>\n",
       "      <th>S1PC</th>\n",
       "      <td>1.000000e+00</td>\n",
       "      <td>1.211187e-16</td>\n",
       "      <td>2.833766e-16</td>\n",
       "      <td>1.850728e-16</td>\n",
       "      <td>1.868202e-16</td>\n",
       "      <td>1.248172e-02</td>\n",
       "      <td>-4.431272e-02</td>\n",
       "    </tr>\n",
       "    <tr>\n",
       "      <th>S2PC</th>\n",
       "      <td>1.211187e-16</td>\n",
       "      <td>1.000000e+00</td>\n",
       "      <td>-6.555628e-16</td>\n",
       "      <td>-2.457434e-16</td>\n",
       "      <td>6.258682e-17</td>\n",
       "      <td>-1.318290e-01</td>\n",
       "      <td>2.876969e-02</td>\n",
       "    </tr>\n",
       "    <tr>\n",
       "      <th>S3PC</th>\n",
       "      <td>2.833766e-16</td>\n",
       "      <td>-6.555628e-16</td>\n",
       "      <td>1.000000e+00</td>\n",
       "      <td>2.612921e-16</td>\n",
       "      <td>-7.020984e-17</td>\n",
       "      <td>8.048170e-02</td>\n",
       "      <td>4.281407e-02</td>\n",
       "    </tr>\n",
       "    <tr>\n",
       "      <th>S4PC</th>\n",
       "      <td>1.850728e-16</td>\n",
       "      <td>-2.457434e-16</td>\n",
       "      <td>2.612921e-16</td>\n",
       "      <td>1.000000e+00</td>\n",
       "      <td>-4.533099e-16</td>\n",
       "      <td>-1.167748e-01</td>\n",
       "      <td>8.714434e-03</td>\n",
       "    </tr>\n",
       "    <tr>\n",
       "      <th>S5PC</th>\n",
       "      <td>1.868202e-16</td>\n",
       "      <td>6.258682e-17</td>\n",
       "      <td>-7.020984e-17</td>\n",
       "      <td>-4.533099e-16</td>\n",
       "      <td>1.000000e+00</td>\n",
       "      <td>1.393660e-01</td>\n",
       "      <td>-5.862600e-02</td>\n",
       "    </tr>\n",
       "    <tr>\n",
       "      <th>E1PC</th>\n",
       "      <td>1.248172e-02</td>\n",
       "      <td>-1.318290e-01</td>\n",
       "      <td>8.048170e-02</td>\n",
       "      <td>-1.167748e-01</td>\n",
       "      <td>1.393660e-01</td>\n",
       "      <td>1.000000e+00</td>\n",
       "      <td>4.780337e-16</td>\n",
       "    </tr>\n",
       "    <tr>\n",
       "      <th>E2PC</th>\n",
       "      <td>-4.431272e-02</td>\n",
       "      <td>2.876969e-02</td>\n",
       "      <td>4.281407e-02</td>\n",
       "      <td>8.714434e-03</td>\n",
       "      <td>-5.862600e-02</td>\n",
       "      <td>4.780337e-16</td>\n",
       "      <td>1.000000e+00</td>\n",
       "    </tr>\n",
       "  </tbody>\n",
       "</table>\n",
       "</div>"
      ],
      "text/plain": [
       "              S1PC          S2PC          S3PC          S4PC          S5PC  \\\n",
       "S1PC  1.000000e+00  1.211187e-16  2.833766e-16  1.850728e-16  1.868202e-16   \n",
       "S2PC  1.211187e-16  1.000000e+00 -6.555628e-16 -2.457434e-16  6.258682e-17   \n",
       "S3PC  2.833766e-16 -6.555628e-16  1.000000e+00  2.612921e-16 -7.020984e-17   \n",
       "S4PC  1.850728e-16 -2.457434e-16  2.612921e-16  1.000000e+00 -4.533099e-16   \n",
       "S5PC  1.868202e-16  6.258682e-17 -7.020984e-17 -4.533099e-16  1.000000e+00   \n",
       "E1PC  1.248172e-02 -1.318290e-01  8.048170e-02 -1.167748e-01  1.393660e-01   \n",
       "E2PC -4.431272e-02  2.876969e-02  4.281407e-02  8.714434e-03 -5.862600e-02   \n",
       "\n",
       "              E1PC          E2PC  \n",
       "S1PC  1.248172e-02 -4.431272e-02  \n",
       "S2PC -1.318290e-01  2.876969e-02  \n",
       "S3PC  8.048170e-02  4.281407e-02  \n",
       "S4PC -1.167748e-01  8.714434e-03  \n",
       "S5PC  1.393660e-01 -5.862600e-02  \n",
       "E1PC  1.000000e+00  4.780337e-16  \n",
       "E2PC  4.780337e-16  1.000000e+00  "
      ]
     },
     "execution_count": 392,
     "metadata": {},
     "output_type": "execute_result"
    }
   ],
   "source": [
    "#Correlation matrix\n",
    "PC_sensation = rotatedData1.iloc[:,0:5]\n",
    "PC_sensation_t = PC_sensation.transpose()\n",
    "PC_experience = rotatedData2.iloc[:,0:2]\n",
    "PC_experience_t = PC_experience.transpose()\n",
    "\n",
    "r = np.corrcoef(PC_sensation_t, PC_experience_t)\n",
    "r = pd.DataFrame(r).rename(columns={0: 'S1PC',1: 'S2PC',2:'S3PC',3:'S4PC',4:'S5PC',5:'E1PC',6:'E2PC'},index={0: 'S1PC',1: 'S2PC',2:'S3PC',3:'S4PC',4:'S5PC',5:'E1PC',6:'E2PC'})\n",
    "r"
   ]
  },
  {
   "cell_type": "markdown",
   "id": "377ce4fd",
   "metadata": {},
   "source": [
    "## 2) Is there evidence of personality types based on the data of these research participants? If so, characterize these types both quantitatively and narratively."
   ]
  },
  {
   "cell_type": "code",
   "execution_count": 45,
   "id": "4bfeb88e",
   "metadata": {},
   "outputs": [
    {
     "data": {
      "image/png": "[encoded data removed]",
      "text/plain": [
       "<Figure size 432x288 with 2 Axes>"
      ]
     },
     "metadata": {
      "needs_background": "light"
     },
     "output_type": "display_data"
    }
   ],
   "source": [
    "#Correlation matrix heatmap shows that there exists correlation between the factors of Personality\n",
    "r = np.corrcoef(personality,rowvar=False)\n",
    "plt.imshow(r) \n",
    "plt.colorbar()\n",
    "plt.show()"
   ]
  },
  {
   "cell_type": "code",
   "execution_count": 58,
   "id": "7d8f41b8",
   "metadata": {},
   "outputs": [
    {
     "data": {
      "image/png": "[encoded data removed]",
      "text/plain": [
       "<Figure size 432x288 with 1 Axes>"
      ]
     },
     "metadata": {
      "needs_background": "light"
     },
     "output_type": "display_data"
    },
    {
     "name": "stdout",
     "output_type": "stream",
     "text": [
      "Number of factors selected by Kaiser criterion: 8\n",
      "Number of factors selected by elbow criterion: 1\n",
      "Number of factors to account for at least 90% variance: 32\n"
     ]
    },
    {
     "data": {
      "text/plain": [
       "Text(0, 0.5, 'Loading')"
      ]
     },
     "execution_count": 58,
     "metadata": {},
     "output_type": "execute_result"
    },
    {
     "data": {
      "image/png": "[encoded data removed]",
      "text/plain": [
       "<Figure size 432x288 with 1 Axes>"
      ]
     },
     "metadata": {
      "needs_background": "light"
     },
     "output_type": "display_data"
    }
   ],
   "source": [
    " #PCA for \"Personality\"\n",
    "zscoredData = stats.zscore(personality)\n",
    "pca = PCA().fit(zscoredData)\n",
    "eigVals = pca.explained_variance_\n",
    "loadings = pca.components_\n",
    "rotatedData = pd.DataFrame(pca.fit_transform(zscoredData))\n",
    "PC1_experience = rotatedData.iloc[:,0]\n",
    "#covarExplained = eigVals/sum(eigVals)*100\n",
    "#for ii in range(len(covarExplained)):\n",
    "    #print(covarExplained[ii].round(3))\n",
    "\n",
    "question = 44\n",
    "x = np.linspace(1,question,question)\n",
    "plt.bar(x, eigVals, color='gray')\n",
    "plt.plot([0,question],[1,1],color='orange') # Orange Kaiser criterion line for the fox\n",
    "plt.xlabel('Principal component')\n",
    "plt.ylabel('Eigenvalue')\n",
    "plt.show()\n",
    "\n",
    "threshold = 1\n",
    "print('Number of factors selected by Kaiser criterion:', np.count_nonzero(eigVals > threshold))\n",
    "print('Number of factors selected by elbow criterion: 1')\n",
    "threshold = 90\n",
    "eigSum = np.cumsum(covarExplained)\n",
    "print('Number of factors to account for at least 90% variance:', np.count_nonzero(eigSum < threshold) + 1)\n",
    "\n",
    "whichPrincipalComponent = 1 # Select and look at once factor at a time \n",
    "plt.bar(x,loadings[whichPrincipalComponent,:]*-1) # note: eigVecs multiplied by -1\n",
    "plt.xlabel('Question')\n",
    "plt.ylabel('Loading')"
   ]
  },
  {
   "cell_type": "code",
   "execution_count": null,
   "id": "fbcd967c",
   "metadata": {},
   "outputs": [],
   "source": [
    "#Decide the new factors---meaning of the first and second principal component which account for biggest variance"
   ]
  },
  {
   "cell_type": "code",
   "execution_count": null,
   "id": "2168729c",
   "metadata": {},
   "outputs": [],
   "source": [
    "#Degree of emotional and mental sensitivity"
   ]
  },
  {
   "cell_type": "code",
   "execution_count": 51,
   "id": "89eed6d1",
   "metadata": {},
   "outputs": [
    {
     "data": {
      "text/plain": [
       "1       3.0\n",
       "2       4.0\n",
       "3       4.0\n",
       "4       4.0\n",
       "5       4.0\n",
       "       ... \n",
       "1092    4.0\n",
       "1093    4.0\n",
       "1094    4.0\n",
       "1095    4.0\n",
       "1096    4.0\n",
       "Name: Can be tense, Length: 1000, dtype: float64"
      ]
     },
     "execution_count": 51,
     "metadata": {},
     "output_type": "execute_result"
    }
   ],
   "source": [
    "personality.iloc[:,13]"
   ]
  },
  {
   "cell_type": "code",
   "execution_count": 52,
   "id": "c66c23fb",
   "metadata": {},
   "outputs": [
    {
     "data": {
      "text/plain": [
       "1       3.0\n",
       "2       4.0\n",
       "3       5.0\n",
       "4       4.0\n",
       "5       5.0\n",
       "       ... \n",
       "1092    4.0\n",
       "1093    5.0\n",
       "1094    5.0\n",
       "1095    4.0\n",
       "1096    4.0\n",
       "Name: Worries a lot, Length: 1000, dtype: float64"
      ]
     },
     "execution_count": 52,
     "metadata": {},
     "output_type": "execute_result"
    }
   ],
   "source": [
    "personality.iloc[:,18]"
   ]
  },
  {
   "cell_type": "code",
   "execution_count": 53,
   "id": "7f10c0d6",
   "metadata": {},
   "outputs": [
    {
     "data": {
      "text/plain": [
       "1       5.0\n",
       "2       4.0\n",
       "3       4.0\n",
       "4       4.0\n",
       "5       4.0\n",
       "       ... \n",
       "1092    4.0\n",
       "1093    5.0\n",
       "1094    4.0\n",
       "1095    5.0\n",
       "1096    4.0\n",
       "Name: Has an active imagination, Length: 1000, dtype: float64"
      ]
     },
     "execution_count": 53,
     "metadata": {},
     "output_type": "execute_result"
    }
   ],
   "source": [
    "personality.iloc[:,19]"
   ]
  },
  {
   "cell_type": "code",
   "execution_count": 54,
   "id": "a7be6c64",
   "metadata": {},
   "outputs": [
    {
     "data": {
      "text/plain": [
       "1       4.0\n",
       "2       4.0\n",
       "3       5.0\n",
       "4       4.0\n",
       "5       5.0\n",
       "       ... \n",
       "1092    4.0\n",
       "1093    5.0\n",
       "1094    1.0\n",
       "1095    5.0\n",
       "1096    4.0\n",
       "Name: Can be moody, Length: 1000, dtype: float64"
      ]
     },
     "execution_count": 54,
     "metadata": {},
     "output_type": "execute_result"
    }
   ],
   "source": [
    "personality.iloc[:,28]"
   ]
  },
  {
   "cell_type": "code",
   "execution_count": 55,
   "id": "7a7743f5",
   "metadata": {},
   "outputs": [
    {
     "data": {
      "text/plain": [
       "1       5.0\n",
       "2       4.0\n",
       "3       5.0\n",
       "4       4.0\n",
       "5       5.0\n",
       "       ... \n",
       "1092    5.0\n",
       "1093    4.0\n",
       "1094    5.0\n",
       "1095    5.0\n",
       "1096    5.0\n",
       "Name: Values artistic/aesthetic experiences, Length: 1000, dtype: float64"
      ]
     },
     "execution_count": 55,
     "metadata": {},
     "output_type": "execute_result"
    }
   ],
   "source": [
    "personality.iloc[:,29]"
   ]
  },
  {
   "cell_type": "code",
   "execution_count": 56,
   "id": "1fda8131",
   "metadata": {},
   "outputs": [
    {
     "data": {
      "text/plain": [
       "1       2.0\n",
       "2       4.0\n",
       "3       4.0\n",
       "4       4.0\n",
       "5       5.0\n",
       "       ... \n",
       "1092    4.0\n",
       "1093    5.0\n",
       "1094    4.0\n",
       "1095    5.0\n",
       "1096    2.0\n",
       "Name: Gets nervous easily, Length: 1000, dtype: float64"
      ]
     },
     "execution_count": 56,
     "metadata": {},
     "output_type": "execute_result"
    }
   ],
   "source": [
    "personality.iloc[:,38]"
   ]
  },
  {
   "cell_type": "code",
   "execution_count": 57,
   "id": "2c34343e",
   "metadata": {},
   "outputs": [
    {
     "data": {
      "text/plain": [
       "1       3.0\n",
       "2       4.0\n",
       "3       4.0\n",
       "4       3.0\n",
       "5       1.0\n",
       "       ... \n",
       "1092    4.0\n",
       "1093    5.0\n",
       "1094    5.0\n",
       "1095    4.0\n",
       "1096    4.0\n",
       "Name: Likes to reflect/play with ideas, Length: 1000, dtype: float64"
      ]
     },
     "execution_count": 57,
     "metadata": {},
     "output_type": "execute_result"
    }
   ],
   "source": [
    "personality.iloc[:,39]"
   ]
  },
  {
   "cell_type": "code",
   "execution_count": 59,
   "id": "e226b196",
   "metadata": {},
   "outputs": [
    {
     "data": {
      "text/plain": [
       "Text(0, 0.5, 'Loading')"
      ]
     },
     "execution_count": 59,
     "metadata": {},
     "output_type": "execute_result"
    },
    {
     "data": {
      "image/png": "[encoded data removed]",
      "text/plain": [
       "<Figure size 432x288 with 1 Axes>"
      ]
     },
     "metadata": {
      "needs_background": "light"
     },
     "output_type": "display_data"
    }
   ],
   "source": [
    "whichPrincipalComponent = 2 # Select and look at once factor at a time \n",
    "plt.bar(x,loadings[whichPrincipalComponent,:]*-1) # note: eigVecs multiplied by -1\n",
    "plt.xlabel('Question')\n",
    "plt.ylabel('Loading')"
   ]
  },
  {
   "cell_type": "code",
   "execution_count": null,
   "id": "36662bf0",
   "metadata": {},
   "outputs": [],
   "source": [
    "The degree of introversion"
   ]
  },
  {
   "cell_type": "code",
   "execution_count": 62,
   "id": "0d798ee2",
   "metadata": {},
   "outputs": [
    {
     "data": {
      "text/plain": [
       "1       2.0\n",
       "2       4.0\n",
       "3       5.0\n",
       "4       4.0\n",
       "5       1.0\n",
       "       ... \n",
       "1092    4.0\n",
       "1093    5.0\n",
       "1094    4.0\n",
       "1095    4.0\n",
       "1096    5.0\n",
       "Name: Is talkative, Length: 1000, dtype: float64"
      ]
     },
     "execution_count": 62,
     "metadata": {},
     "output_type": "execute_result"
    }
   ],
   "source": [
    "personality.iloc[:,0]"
   ]
  },
  {
   "cell_type": "code",
   "execution_count": 63,
   "id": "a2f8e86e",
   "metadata": {},
   "outputs": [
    {
     "data": {
      "text/plain": [
       "1       5.0\n",
       "2       3.0\n",
       "3       3.0\n",
       "4       3.0\n",
       "5       4.0\n",
       "       ... \n",
       "1092    3.0\n",
       "1093    4.0\n",
       "1094    5.0\n",
       "1095    5.0\n",
       "1096    3.0\n",
       "Name: Is reserved, Length: 1000, dtype: float64"
      ]
     },
     "execution_count": 63,
     "metadata": {},
     "output_type": "execute_result"
    }
   ],
   "source": [
    "personality.iloc[:,5]"
   ]
  },
  {
   "cell_type": "code",
   "execution_count": 64,
   "id": "547612b9",
   "metadata": {},
   "outputs": [
    {
     "data": {
      "text/plain": [
       "1       5.0\n",
       "2       2.0\n",
       "3       2.0\n",
       "4       4.0\n",
       "5       5.0\n",
       "       ... \n",
       "1092    4.0\n",
       "1093    4.0\n",
       "1094    4.0\n",
       "1095    5.0\n",
       "1096    2.0\n",
       "Name: Tends to be quiet, Length: 1000, dtype: float64"
      ]
     },
     "execution_count": 64,
     "metadata": {},
     "output_type": "execute_result"
    }
   ],
   "source": [
    "personality.iloc[:,20]"
   ]
  },
  {
   "cell_type": "code",
   "execution_count": 65,
   "id": "5053a1e3",
   "metadata": {},
   "outputs": [
    {
     "data": {
      "text/plain": [
       "1       5.0\n",
       "2       4.0\n",
       "3       4.0\n",
       "4       4.0\n",
       "5       5.0\n",
       "       ... \n",
       "1092    4.0\n",
       "1093    5.0\n",
       "1094    4.0\n",
       "1095    5.0\n",
       "1096    3.0\n",
       "Name: Is sometimes shy/inhibited, Length: 1000, dtype: float64"
      ]
     },
     "execution_count": 65,
     "metadata": {},
     "output_type": "execute_result"
    }
   ],
   "source": [
    "personality.iloc[:,30]"
   ]
  },
  {
   "cell_type": "code",
   "execution_count": 67,
   "id": "b7754bce",
   "metadata": {},
   "outputs": [
    {
     "data": {
      "image/png": "[encoded data removed]",
      "text/plain": [
       "<Figure size 432x288 with 1 Axes>"
      ]
     },
     "metadata": {
      "needs_background": "light"
     },
     "output_type": "display_data"
    }
   ],
   "source": [
    "#Visualize our data in the new coordinate system:\n",
    "plt.plot(rotatedData.iloc[:,0],rotatedData.iloc[:,1],'o',markersize=1)\n",
    "plt.xlabel('Degree of emotional and mental sensitivity')\n",
    "plt.ylabel('The degree of introversion')\n",
    "plt.show()"
   ]
  },
  {
   "cell_type": "code",
   "execution_count": 68,
   "id": "68466560",
   "metadata": {},
   "outputs": [],
   "source": [
    "#Clustering\n",
    "# Store our transformed data - the predictors - as x:\n",
    "X = np.column_stack((rotatedData.iloc[:,0],rotatedData.iloc[:,1]))"
   ]
  },
  {
   "cell_type": "code",
   "execution_count": 71,
   "id": "52202e5c",
   "metadata": {},
   "outputs": [
    {
     "data": {
      "image/png": "[encoded data removed]",
      "text/plain": [
       "<Figure size 432x288 with 9 Axes>"
      ]
     },
     "metadata": {
      "needs_background": "light"
     },
     "output_type": "display_data"
    }
   ],
   "source": [
    "# Silhouette: How similar to points in cluster vs. others, arbitrariness\n",
    "# Init:\n",
    "numClusters = 9 # how many clusters are we looping over? (from 2 to 10)\n",
    "Q = np.empty([numClusters,1])*np.NaN # init container to store sums\n",
    "\n",
    "# Compute kMeans:\n",
    "for ii in range(2, 11): # Loop through each cluster (from 2 to 10!)\n",
    "    kMeans = KMeans(n_clusters = int(ii)).fit(X) # compute kmeans using scikit\n",
    "    cId = kMeans.labels_ # vector of cluster IDs that the row belongs to\n",
    "    cCoords = kMeans.cluster_centers_ # coordinate location for center of each cluster\n",
    "    s = silhouette_samples(X,cId) # compute the mean silhouette coefficient of all samples\n",
    "    Q[ii-2] = sum(s) # take the sum\n",
    "    # Plot data:\n",
    "    plt.subplot(3,3,ii-1) \n",
    "    plt.hist(s,bins=20) \n",
    "    plt.xlim(-0.2,1)\n",
    "    plt.ylim(0,250)\n",
    "    plt.xlabel('Silhouette score')\n",
    "    plt.ylabel('Count')\n",
    "    plt.title('Sum: {}'.format(int(Q[ii-2]))) # sum rounded to nearest integer\n",
    "    plt.tight_layout() # adjusts subplot padding"
   ]
  },
  {
   "cell_type": "code",
   "execution_count": 72,
   "id": "6965a406",
   "metadata": {},
   "outputs": [
    {
     "data": {
      "image/png": "[encoded data removed]",
      "text/plain": [
       "<Figure size 432x288 with 1 Axes>"
      ]
     },
     "metadata": {
      "needs_background": "light"
     },
     "output_type": "display_data"
    }
   ],
   "source": [
    "plt.plot(np.linspace(2,10,9),Q)\n",
    "plt.xlabel('Number of clusters')\n",
    "plt.ylabel('Sum of silhouette scores')\n",
    "plt.show()\n",
    "#Peak: 7 clusters"
   ]
  },
  {
   "cell_type": "code",
   "execution_count": 74,
   "id": "043e73f7",
   "metadata": {},
   "outputs": [
    {
     "data": {
      "image/png": "[encoded data removed]",
      "text/plain": [
       "<Figure size 432x288 with 1 Axes>"
      ]
     },
     "metadata": {
      "needs_background": "light"
     },
     "output_type": "display_data"
    }
   ],
   "source": [
    "# Recompute kMeans:\n",
    "numClusters = 7\n",
    "kMeans = KMeans(n_clusters = numClusters).fit(X) \n",
    "cId = kMeans.labels_ \n",
    "cCoords = kMeans.cluster_centers_ \n",
    "\n",
    "# Plot the color-coded data:\n",
    "for ii in range(numClusters):\n",
    "    plotIndex = np.argwhere(cId == int(ii))\n",
    "    plt.plot(X[plotIndex,0],X[plotIndex,1],'o',markersize=1)\n",
    "    plt.plot(cCoords[int(ii-1),0],cCoords[int(ii-1),1],'o',markersize=5,color='black')  \n",
    "    plt.xlabel('Degree of emotional and mental sensitivity')\n",
    "    plt.ylabel('The degree of introversion')\n",
    "    "
   ]
  },
  {
   "cell_type": "markdown",
   "id": "3ae3fa14",
   "metadata": {},
   "source": [
    "## 3) Are movies that are more popular rated higher than movies that are less popular?"
   ]
  },
  {
   "cell_type": "code",
   "execution_count": 393,
   "id": "1aecc0ec",
   "metadata": {},
   "outputs": [],
   "source": [
    "#Data matrix of 400 movie ratings\n",
    "movies = data.iloc[:,0:400]"
   ]
  },
  {
   "cell_type": "code",
   "execution_count": 394,
   "id": "a9e187ca",
   "metadata": {},
   "outputs": [],
   "source": [
    "#Element-wise remove nan\n",
    "movies_remove_nan = []\n",
    "for i in range(400):\n",
    "    R = movies.iloc[:,i]\n",
    "    R = R.dropna().to_numpy()\n",
    "    movies_remove_nan.append(R)\n",
    "\n",
    "#Number of ratings\n",
    "n_ratings = []\n",
    "for i in range(len(movies_remove_nan)):\n",
    "    n = len(movies_remove_nan[i])\n",
    "    n_ratings.append(n)\n",
    "\n",
    "#Median n of ratings\n",
    "n_median = np.median(n_ratings)\n",
    "\n",
    "#Sort movies into popular and not popular (To display the difference more clearly, \n",
    "#we will ignore movies whose number of ratings equal to median number of ratings)\n",
    "popular = []\n",
    "not_popular = []\n",
    "for i in range(len(movies_remove_nan)):\n",
    "    if n_ratings[i] > n_median:\n",
    "        popular.append(movies_remove_nan[i])\n",
    "    if n_ratings[i] < n_median:\n",
    "        not_popular.append(movies_remove_nan[i])\n",
    "\n",
    "#Compute the mean ratings of movies\n",
    "for i in range(len(popular)):\n",
    "    popular[i] = np.mean(popular[i])\n",
    "    not_popular[i] = np.mean(not_popular[i])\n"
   ]
  },
  {
   "cell_type": "code",
   "execution_count": 395,
   "id": "a3f0546d",
   "metadata": {},
   "outputs": [
    {
     "data": {
      "text/plain": [
       "(17.756049269873696, 2.2696530276566144e-52)"
      ]
     },
     "execution_count": 395,
     "metadata": {},
     "output_type": "execute_result"
    }
   ],
   "source": [
    "#Independent T test\n",
    "t1,p1 = stats.ttest_ind(popular, not_popular)\n",
    "t1,p1"
   ]
  },
  {
   "cell_type": "code",
   "execution_count": 398,
   "id": "83c8675d",
   "metadata": {},
   "outputs": [
    {
     "data": {
      "text/plain": [
       "(35404.0, 8.485716560078964e-41)"
      ]
     },
     "execution_count": 398,
     "metadata": {},
     "output_type": "execute_result"
    }
   ],
   "source": [
    "#One-tail Mann Whitney U test\n",
    "u1,p1 = stats.mannwhitneyu(popular ,not_popular, alternative='greater')\n",
    "u1,p1"
   ]
  },
  {
   "cell_type": "markdown",
   "id": "69c5de07",
   "metadata": {},
   "source": [
    "## 4) Is enjoyment of ‘Shrek (2001)’ gendered, i.e. do male and female viewers rate it differently?"
   ]
  },
  {
   "cell_type": "code",
   "execution_count": 104,
   "id": "23b9a0bd",
   "metadata": {},
   "outputs": [
    {
     "data": {
      "text/plain": [
       "(array([87]),)"
      ]
     },
     "execution_count": 104,
     "metadata": {},
     "output_type": "execute_result"
    }
   ],
   "source": [
    "#Extract the column of the movie and gender and join them as a dataframe\n",
    "movieName = data.columns[0:400]\n",
    "np.where(movieName==\"Shrek (2001)\")"
   ]
  },
  {
   "cell_type": "code",
   "execution_count": 131,
   "id": "5dfd94d9",
   "metadata": {},
   "outputs": [
    {
     "data": {
      "text/html": [
       "<div>\n",
       "<style scoped>\n",
       "    .dataframe tbody tr th:only-of-type {\n",
       "        vertical-align: middle;\n",
       "    }\n",
       "\n",
       "    .dataframe tbody tr th {\n",
       "        vertical-align: top;\n",
       "    }\n",
       "\n",
       "    .dataframe thead th {\n",
       "        text-align: right;\n",
       "    }\n",
       "</style>\n",
       "<table border=\"1\" class=\"dataframe\">\n",
       "  <thead>\n",
       "    <tr style=\"text-align: right;\">\n",
       "      <th></th>\n",
       "      <th>Shrek(2001)</th>\n",
       "      <th>Gender</th>\n",
       "    </tr>\n",
       "  </thead>\n",
       "  <tbody>\n",
       "    <tr>\n",
       "      <th>0</th>\n",
       "      <td>3.0</td>\n",
       "      <td>1.0</td>\n",
       "    </tr>\n",
       "    <tr>\n",
       "      <th>1</th>\n",
       "      <td>3.0</td>\n",
       "      <td>1.0</td>\n",
       "    </tr>\n",
       "    <tr>\n",
       "      <th>2</th>\n",
       "      <td>3.5</td>\n",
       "      <td>1.0</td>\n",
       "    </tr>\n",
       "    <tr>\n",
       "      <th>3</th>\n",
       "      <td>0.5</td>\n",
       "      <td>1.0</td>\n",
       "    </tr>\n",
       "    <tr>\n",
       "      <th>4</th>\n",
       "      <td>3.0</td>\n",
       "      <td>1.0</td>\n",
       "    </tr>\n",
       "    <tr>\n",
       "      <th>...</th>\n",
       "      <td>...</td>\n",
       "      <td>...</td>\n",
       "    </tr>\n",
       "    <tr>\n",
       "      <th>1092</th>\n",
       "      <td>3.0</td>\n",
       "      <td>1.0</td>\n",
       "    </tr>\n",
       "    <tr>\n",
       "      <th>1093</th>\n",
       "      <td>4.0</td>\n",
       "      <td>1.0</td>\n",
       "    </tr>\n",
       "    <tr>\n",
       "      <th>1094</th>\n",
       "      <td>3.5</td>\n",
       "      <td>1.0</td>\n",
       "    </tr>\n",
       "    <tr>\n",
       "      <th>1095</th>\n",
       "      <td>2.5</td>\n",
       "      <td>1.0</td>\n",
       "    </tr>\n",
       "    <tr>\n",
       "      <th>1096</th>\n",
       "      <td>2.0</td>\n",
       "      <td>1.0</td>\n",
       "    </tr>\n",
       "  </tbody>\n",
       "</table>\n",
       "<p>1097 rows × 2 columns</p>\n",
       "</div>"
      ],
      "text/plain": [
       "      Shrek(2001)  Gender\n",
       "0             3.0     1.0\n",
       "1             3.0     1.0\n",
       "2             3.5     1.0\n",
       "3             0.5     1.0\n",
       "4             3.0     1.0\n",
       "...           ...     ...\n",
       "1092          3.0     1.0\n",
       "1093          4.0     1.0\n",
       "1094          3.5     1.0\n",
       "1095          2.5     1.0\n",
       "1096          2.0     1.0\n",
       "\n",
       "[1097 rows x 2 columns]"
      ]
     },
     "execution_count": 131,
     "metadata": {},
     "output_type": "execute_result"
    }
   ],
   "source": [
    "shrek = data.iloc[:,87]\n",
    "gender = data.iloc[:,474]\n",
    "shrek_gender = pd.DataFrame(pd.concat([shrek,gender],axis=1))\n",
    "shrek_gender = shrek_gender.rename(columns={\"Shrek (2001)\": \"Shrek(2001)\", \"Gender identity (1 = female; 2 = male; 3 = self-described)\": \"Gender\"})\n",
    "shrek_gender"
   ]
  },
  {
   "cell_type": "code",
   "execution_count": 143,
   "id": "aca77a98",
   "metadata": {},
   "outputs": [],
   "source": [
    "#get the seperate groups of male and female\n",
    "gender_group = shrek_gender.groupby('Gender')\n",
    "female = gender_group.get_group(1)\n",
    "male = gender_group.get_group(2)"
   ]
  },
  {
   "cell_type": "code",
   "execution_count": 144,
   "id": "c41d09fd",
   "metadata": {},
   "outputs": [],
   "source": [
    "#Extract the ratings from two groups, remove nan, and reset index\n",
    "female = female.iloc[:,0].dropna().reset_index(drop = True)\n",
    "male = male.iloc[:,0].dropna().reset_index(drop = True)"
   ]
  },
  {
   "cell_type": "code",
   "execution_count": 146,
   "id": "e9cadaa7",
   "metadata": {},
   "outputs": [
    {
     "data": {
      "text/plain": [
       "(96830.5, 0.050536625925559006)"
      ]
     },
     "execution_count": 146,
     "metadata": {},
     "output_type": "execute_result"
    }
   ],
   "source": [
    "#two-sided Mann-Whitney U test\n",
    "u,p = stats.mannwhitneyu(female,male)\n",
    "u,p"
   ]
  },
  {
   "cell_type": "markdown",
   "id": "c19bd115",
   "metadata": {},
   "source": [
    "## 5) Do people who are only children enjoy ‘The Lion King (1994)’ more than people with siblings?"
   ]
  },
  {
   "cell_type": "code",
   "execution_count": 149,
   "id": "6314e891",
   "metadata": {},
   "outputs": [
    {
     "data": {
      "text/plain": [
       "(array([220]),)"
      ]
     },
     "execution_count": 149,
     "metadata": {},
     "output_type": "execute_result"
    }
   ],
   "source": [
    "#Extract the column of the movie and only child column and join them as a dataframe\n",
    "movieName = data.columns[0:400]\n",
    "np.where(movieName==\"The Lion King (1994)\")"
   ]
  },
  {
   "cell_type": "code",
   "execution_count": 179,
   "id": "b8705182",
   "metadata": {},
   "outputs": [
    {
     "data": {
      "text/html": [
       "<div>\n",
       "<style scoped>\n",
       "    .dataframe tbody tr th:only-of-type {\n",
       "        vertical-align: middle;\n",
       "    }\n",
       "\n",
       "    .dataframe tbody tr th {\n",
       "        vertical-align: top;\n",
       "    }\n",
       "\n",
       "    .dataframe thead th {\n",
       "        text-align: right;\n",
       "    }\n",
       "</style>\n",
       "<table border=\"1\" class=\"dataframe\">\n",
       "  <thead>\n",
       "    <tr style=\"text-align: right;\">\n",
       "      <th></th>\n",
       "      <th>The Lion King (1994)</th>\n",
       "      <th>Child</th>\n",
       "    </tr>\n",
       "  </thead>\n",
       "  <tbody>\n",
       "    <tr>\n",
       "      <th>0</th>\n",
       "      <td>4.0</td>\n",
       "      <td>0</td>\n",
       "    </tr>\n",
       "    <tr>\n",
       "      <th>1</th>\n",
       "      <td>NaN</td>\n",
       "      <td>0</td>\n",
       "    </tr>\n",
       "    <tr>\n",
       "      <th>2</th>\n",
       "      <td>4.0</td>\n",
       "      <td>1</td>\n",
       "    </tr>\n",
       "    <tr>\n",
       "      <th>3</th>\n",
       "      <td>3.0</td>\n",
       "      <td>0</td>\n",
       "    </tr>\n",
       "    <tr>\n",
       "      <th>4</th>\n",
       "      <td>4.0</td>\n",
       "      <td>1</td>\n",
       "    </tr>\n",
       "    <tr>\n",
       "      <th>...</th>\n",
       "      <td>...</td>\n",
       "      <td>...</td>\n",
       "    </tr>\n",
       "    <tr>\n",
       "      <th>1092</th>\n",
       "      <td>3.5</td>\n",
       "      <td>0</td>\n",
       "    </tr>\n",
       "    <tr>\n",
       "      <th>1093</th>\n",
       "      <td>3.5</td>\n",
       "      <td>0</td>\n",
       "    </tr>\n",
       "    <tr>\n",
       "      <th>1094</th>\n",
       "      <td>NaN</td>\n",
       "      <td>0</td>\n",
       "    </tr>\n",
       "    <tr>\n",
       "      <th>1095</th>\n",
       "      <td>NaN</td>\n",
       "      <td>0</td>\n",
       "    </tr>\n",
       "    <tr>\n",
       "      <th>1096</th>\n",
       "      <td>4.0</td>\n",
       "      <td>0</td>\n",
       "    </tr>\n",
       "  </tbody>\n",
       "</table>\n",
       "<p>1097 rows × 2 columns</p>\n",
       "</div>"
      ],
      "text/plain": [
       "      The Lion King (1994)  Child\n",
       "0                      4.0      0\n",
       "1                      NaN      0\n",
       "2                      4.0      1\n",
       "3                      3.0      0\n",
       "4                      4.0      1\n",
       "...                    ...    ...\n",
       "1092                   3.5      0\n",
       "1093                   3.5      0\n",
       "1094                   NaN      0\n",
       "1095                   NaN      0\n",
       "1096                   4.0      0\n",
       "\n",
       "[1097 rows x 2 columns]"
      ]
     },
     "execution_count": 179,
     "metadata": {},
     "output_type": "execute_result"
    }
   ],
   "source": [
    "LK = data.iloc[:,220]\n",
    "child = data.iloc[:,475]\n",
    "LK_child = pd.DataFrame(pd.concat([LK,child],axis=1))\n",
    "LK_child = LK_child.rename(columns={\"The Lion King (1994)\": \"The Lion King (1994)\", \"Are you an only child? (1: Yes; 0: No; -1: Did not respond)\": \"Child\"})\n",
    "LK_child"
   ]
  },
  {
   "cell_type": "code",
   "execution_count": 180,
   "id": "b0c75e4a",
   "metadata": {},
   "outputs": [],
   "source": [
    "#get the seperate groups of only child and child with siblings \n",
    "LK_child = LK_child.groupby(\"Child\")\n",
    "onlyChild = LK_child.get_group(1)\n",
    "withSiblings = LK_child.get_group(0)"
   ]
  },
  {
   "cell_type": "code",
   "execution_count": 181,
   "id": "7799cea3",
   "metadata": {},
   "outputs": [],
   "source": [
    "#Extract the ratings from two groups, remove nan, and reset index\n",
    "onlyChild = onlyChild.iloc[:,0].dropna().reset_index(drop = True)\n",
    "withSiblings = withSiblings.iloc[:,0].dropna().reset_index(drop = True)\n"
   ]
  },
  {
   "cell_type": "code",
   "execution_count": 182,
   "id": "264edff5",
   "metadata": {},
   "outputs": [
    {
     "data": {
      "text/plain": [
       "(52929.0, 0.04319872995682849)"
      ]
     },
     "execution_count": 182,
     "metadata": {},
     "output_type": "execute_result"
    }
   ],
   "source": [
    "#two-sided Mann-Whitney U test\n",
    "u,p = stats.mannwhitneyu(onlyChild,withSiblings)\n",
    "u,p"
   ]
  },
  {
   "cell_type": "code",
   "execution_count": 183,
   "id": "14f2bcb9",
   "metadata": {},
   "outputs": [
    {
     "data": {
      "text/plain": [
       "(52929.0, 0.978419092554931)"
      ]
     },
     "execution_count": 183,
     "metadata": {},
     "output_type": "execute_result"
    }
   ],
   "source": [
    "#one-sided\n",
    "u,p = stats.mannwhitneyu(onlyChild,withSiblings, alternative = 'greater')\n",
    "u,p"
   ]
  },
  {
   "cell_type": "code",
   "execution_count": 184,
   "id": "74485c9b",
   "metadata": {},
   "outputs": [
    {
     "data": {
      "text/plain": [
       "(52929.0, 0.021599364978414245)"
      ]
     },
     "execution_count": 184,
     "metadata": {},
     "output_type": "execute_result"
    }
   ],
   "source": [
    "#one-sided\n",
    "u,p = stats.mannwhitneyu(onlyChild,withSiblings, alternative = 'less')\n",
    "u,p"
   ]
  },
  {
   "cell_type": "markdown",
   "id": "ed8a0b24",
   "metadata": {},
   "source": [
    "## 6) Do people who like to watch movies socially enjoy ‘The Wolf of Wall Street (2013)’ more than those who prefer to watch them alone?"
   ]
  },
  {
   "cell_type": "code",
   "execution_count": 187,
   "id": "50971ee1",
   "metadata": {},
   "outputs": [
    {
     "data": {
      "text/plain": [
       "(array([357]),)"
      ]
     },
     "execution_count": 187,
     "metadata": {},
     "output_type": "execute_result"
    }
   ],
   "source": [
    "#Extract the column of the movie and only child column and join them as a dataframe\n",
    "np.where(movieName==\"The Wolf of Wall Street (2013)\")"
   ]
  },
  {
   "cell_type": "code",
   "execution_count": 190,
   "id": "0144b0ee",
   "metadata": {},
   "outputs": [
    {
     "data": {
      "text/html": [
       "<div>\n",
       "<style scoped>\n",
       "    .dataframe tbody tr th:only-of-type {\n",
       "        vertical-align: middle;\n",
       "    }\n",
       "\n",
       "    .dataframe tbody tr th {\n",
       "        vertical-align: top;\n",
       "    }\n",
       "\n",
       "    .dataframe thead th {\n",
       "        text-align: right;\n",
       "    }\n",
       "</style>\n",
       "<table border=\"1\" class=\"dataframe\">\n",
       "  <thead>\n",
       "    <tr style=\"text-align: right;\">\n",
       "      <th></th>\n",
       "      <th>The Wolf of Wall Street (2013)</th>\n",
       "      <th>Social preference</th>\n",
       "    </tr>\n",
       "  </thead>\n",
       "  <tbody>\n",
       "    <tr>\n",
       "      <th>0</th>\n",
       "      <td>NaN</td>\n",
       "      <td>1</td>\n",
       "    </tr>\n",
       "    <tr>\n",
       "      <th>1</th>\n",
       "      <td>NaN</td>\n",
       "      <td>0</td>\n",
       "    </tr>\n",
       "    <tr>\n",
       "      <th>2</th>\n",
       "      <td>NaN</td>\n",
       "      <td>0</td>\n",
       "    </tr>\n",
       "    <tr>\n",
       "      <th>3</th>\n",
       "      <td>4.0</td>\n",
       "      <td>1</td>\n",
       "    </tr>\n",
       "    <tr>\n",
       "      <th>4</th>\n",
       "      <td>3.0</td>\n",
       "      <td>1</td>\n",
       "    </tr>\n",
       "    <tr>\n",
       "      <th>...</th>\n",
       "      <td>...</td>\n",
       "      <td>...</td>\n",
       "    </tr>\n",
       "    <tr>\n",
       "      <th>1092</th>\n",
       "      <td>NaN</td>\n",
       "      <td>0</td>\n",
       "    </tr>\n",
       "    <tr>\n",
       "      <th>1093</th>\n",
       "      <td>3.5</td>\n",
       "      <td>0</td>\n",
       "    </tr>\n",
       "    <tr>\n",
       "      <th>1094</th>\n",
       "      <td>2.0</td>\n",
       "      <td>0</td>\n",
       "    </tr>\n",
       "    <tr>\n",
       "      <th>1095</th>\n",
       "      <td>NaN</td>\n",
       "      <td>1</td>\n",
       "    </tr>\n",
       "    <tr>\n",
       "      <th>1096</th>\n",
       "      <td>4.0</td>\n",
       "      <td>1</td>\n",
       "    </tr>\n",
       "  </tbody>\n",
       "</table>\n",
       "<p>1097 rows × 2 columns</p>\n",
       "</div>"
      ],
      "text/plain": [
       "      The Wolf of Wall Street (2013)  Social preference\n",
       "0                                NaN                  1\n",
       "1                                NaN                  0\n",
       "2                                NaN                  0\n",
       "3                                4.0                  1\n",
       "4                                3.0                  1\n",
       "...                              ...                ...\n",
       "1092                             NaN                  0\n",
       "1093                             3.5                  0\n",
       "1094                             2.0                  0\n",
       "1095                             NaN                  1\n",
       "1096                             4.0                  1\n",
       "\n",
       "[1097 rows x 2 columns]"
      ]
     },
     "execution_count": 190,
     "metadata": {},
     "output_type": "execute_result"
    }
   ],
   "source": [
    "WWS = data.iloc[:,357]\n",
    "social = data.iloc[:,476]\n",
    "WWS_social = pd.DataFrame(pd.concat([WWS,social],axis=1))\n",
    "WWS_social = WWS_social.rename(columns={\"The Wolf of Wall Street (2013)\": \"The Wolf of Wall Street (2013)\", \"Movies are best enjoyed alone (1: Yes; 0: No; -1: Did not respond)\": \"Social preference\"})\n",
    "WWS_social"
   ]
  },
  {
   "cell_type": "code",
   "execution_count": 191,
   "id": "eb49e99e",
   "metadata": {},
   "outputs": [],
   "source": [
    "#get the seperate groups of watch socially and watch alone\n",
    "WWS_social = WWS_social.groupby(\"Social preference\")\n",
    "socially = WWS_social.get_group(0)\n",
    "alone = WWS_social.get_group(1)"
   ]
  },
  {
   "cell_type": "code",
   "execution_count": 192,
   "id": "e8ad6c89",
   "metadata": {},
   "outputs": [],
   "source": [
    "#Extract the ratings from two groups, remove nan, and reset index\n",
    "socially = socially.iloc[:,0].dropna().reset_index(drop = True)\n",
    "alone = alone.iloc[:,0].dropna().reset_index(drop = True)"
   ]
  },
  {
   "cell_type": "code",
   "execution_count": 399,
   "id": "40f39e8f",
   "metadata": {},
   "outputs": [
    {
     "data": {
      "text/plain": [
       "(49303.5, 0.9436657996253056)"
      ]
     },
     "execution_count": 399,
     "metadata": {},
     "output_type": "execute_result"
    }
   ],
   "source": [
    "#one-sided Mann-Whitney U test\n",
    "u,p = stats.mannwhitneyu(socially,alone, alternative = 'greater')\n",
    "u,p"
   ]
  },
  {
   "cell_type": "code",
   "execution_count": 400,
   "id": "935045e2",
   "metadata": {},
   "outputs": [
    {
     "data": {
      "text/plain": [
       "(49303.5, 0.05638214666114455)"
      ]
     },
     "execution_count": 400,
     "metadata": {},
     "output_type": "execute_result"
    }
   ],
   "source": [
    "u,p = stats.mannwhitneyu(socially,alone, alternative = 'less')\n",
    "u,p"
   ]
  },
  {
   "cell_type": "markdown",
   "id": "2269565a",
   "metadata": {},
   "source": [
    "## 7) There are ratings on movies from several franchises ([‘Star Wars’, ‘Harry Potter’, ‘The Matrix’, ‘Indiana Jones’, ‘Jurassic Park’, ‘Pirates of the Caribbean’, ‘Toy Story’, ‘Batman’]) in this dataset. How many of these are of inconsistent quality, as experienced by viewers?"
   ]
  },
  {
   "cell_type": "code",
   "execution_count": 217,
   "id": "a751c465",
   "metadata": {},
   "outputs": [
    {
     "name": "stdout",
     "output_type": "stream",
     "text": [
      "Star Wars: Episode IV - A New Hope (1977) (array([21]),)\n",
      "Star Wars: Episode II - Attack of the Clones (2002) (array([93]),)\n",
      "Star Wars: Episode V - The Empire Strikes Back (1980) (array([174]),)\n",
      "Star Wars: Episode 1 - The Phantom Menace (1999) (array([273]),)\n",
      "Star Wars: Episode VII - The Force Awakens (2015) (array([336]),)\n",
      "Star Wars: Episode VI - The Return of the Jedi (1983) (array([342]),)\n"
     ]
    }
   ],
   "source": [
    "#Star Wars\n",
    "#Find the movies\n",
    "movie = 'Star Wars'\n",
    "series = []\n",
    "for i in range(len(movieName)):\n",
    "    if movie in movieName[i]:\n",
    "        series.append(movieName[i])\n",
    "#Find the column of each movie\n",
    "for i in series:\n",
    "    index = np.where(movieName==i)\n",
    "    print(i, index)\n",
    "#Extract the columns, element-wise drop nan, and reset index\n",
    "mv1 = data.iloc[:,21].dropna().reset_index(drop = True)\n",
    "mv2 = data.iloc[:,174].dropna().reset_index(drop = True)\n",
    "mv3 = data.iloc[:,342].dropna().reset_index(drop = True)\n",
    "mv4 = data.iloc[:,273].dropna().reset_index(drop = True)\n",
    "mv5 = data.iloc[:,93].dropna().reset_index(drop = True)\n",
    "mv6 = data.iloc[:,336].dropna().reset_index(drop = True)"
   ]
  },
  {
   "cell_type": "code",
   "execution_count": 221,
   "id": "0ca4c8a6",
   "metadata": {},
   "outputs": [
    {
     "name": "stdout",
     "output_type": "stream",
     "text": [
      "125332.0 0.08189846600030656\n",
      "114952.0 0.3034256316184082\n",
      "133033.5 4.730789191200012e-15\n",
      "124054.5 0.4503093559063731\n",
      "78970.0 1.4828150905774305e-27\n"
     ]
    }
   ],
   "source": [
    "#Add the cleaned ratings into a single array\n",
    "series_rating = [mv1,mv2,mv3,mv4,mv5,mv6]\n",
    "\n",
    "#Use loop to do several hypothesis tests simultaneously \n",
    "for i in range(len(series_rating)-1):\n",
    "    u,p = stats.mannwhitneyu(series_rating[i],series_rating[i+1])\n",
    "    print(u,p)"
   ]
  },
  {
   "cell_type": "code",
   "execution_count": 223,
   "id": "5bf14388",
   "metadata": {},
   "outputs": [
    {
     "data": {
      "text/plain": [
       "(133033.5, 2.365394595600006e-15)"
      ]
     },
     "execution_count": 223,
     "metadata": {},
     "output_type": "execute_result"
    }
   ],
   "source": [
    "#Note that the ratings between the third and forth, fifth and sixth movies are inconsistent\n",
    "#Do one-sided tests\n",
    "u,p = stats.mannwhitneyu(series_rating[2],series_rating[3], alternative = 'greater')\n",
    "u,p\n",
    "#Viewers' experience of the forth Star Wars movie dropped"
   ]
  },
  {
   "cell_type": "code",
   "execution_count": 225,
   "id": "4f74a9fd",
   "metadata": {},
   "outputs": [
    {
     "data": {
      "text/plain": [
       "(78970.0, 7.414075452887152e-28)"
      ]
     },
     "execution_count": 225,
     "metadata": {},
     "output_type": "execute_result"
    }
   ],
   "source": [
    "u,p = stats.mannwhitneyu(series_rating[4],series_rating[5], alternative = 'less')\n",
    "u,p\n",
    "#Viewers' experience of the sixth Star Wars movie improved"
   ]
  },
  {
   "cell_type": "code",
   "execution_count": 227,
   "id": "93202539",
   "metadata": {},
   "outputs": [
    {
     "name": "stdout",
     "output_type": "stream",
     "text": [
      "Harry Potter and the Sorcerer's Stone (2001) (array([230]),)\n",
      "Harry Potter and the Deathly Hallows: Part 2 (2011) (array([258]),)\n",
      "Harry Potter and the Goblet of Fire (2005) (array([387]),)\n",
      "Harry Potter and the Chamber of Secrets (2002) (array([394]),)\n"
     ]
    }
   ],
   "source": [
    "#Harry Potter\n",
    "#Find the movies\n",
    "movie = 'Harry Potter'\n",
    "series = []\n",
    "for i in range(len(movieName)):\n",
    "    if movie in movieName[i]:\n",
    "        series.append(movieName[i])\n",
    "#Find the column of each movie\n",
    "for i in series:\n",
    "    index = np.where(movieName==i)\n",
    "    print(i, index)\n",
    "#Extract the columns, element-wise drop nan, and reset index\n",
    "mv1 = data.iloc[:,230].dropna().reset_index(drop = True)\n",
    "mv2 = data.iloc[:,394].dropna().reset_index(drop = True)\n",
    "mv3 = data.iloc[:,387].dropna().reset_index(drop = True)\n",
    "mv4 = data.iloc[:,258].dropna().reset_index(drop = True)"
   ]
  },
  {
   "cell_type": "code",
   "execution_count": 228,
   "id": "42093107",
   "metadata": {},
   "outputs": [
    {
     "name": "stdout",
     "output_type": "stream",
     "text": [
      "384178.0 0.09816683002933\n",
      "342001.0 0.8040524609201452\n",
      "331566.0 0.4973063104455706\n"
     ]
    }
   ],
   "source": [
    "#Add the cleaned ratings into a single array\n",
    "series_rating = [mv1,mv2,mv3,mv4]\n",
    "\n",
    "#Use loop to do several hypothesis tests simultaneously \n",
    "for i in range(len(series_rating)-1):\n",
    "    u,p = stats.mannwhitneyu(series_rating[i],series_rating[i+1])\n",
    "    print(u,p)\n",
    "    \n",
    "#The Harry Potter series has consistent ratings."
   ]
  },
  {
   "cell_type": "code",
   "execution_count": 230,
   "id": "2023b1a0",
   "metadata": {},
   "outputs": [
    {
     "name": "stdout",
     "output_type": "stream",
     "text": [
      "The Matrix Revolutions (2003) (array([35]),)\n",
      "The Matrix Reloaded (2003) (array([172]),)\n",
      "The Matrix (1999) (array([306]),)\n"
     ]
    }
   ],
   "source": [
    "#The Matrix\n",
    "#Find the movies\n",
    "movie = 'The Matrix'\n",
    "series = []\n",
    "for i in range(len(movieName)):\n",
    "    if movie in movieName[i]:\n",
    "        series.append(movieName[i])\n",
    "#Find the column of each movie\n",
    "for i in series:\n",
    "    index = np.where(movieName==i)\n",
    "    print(i, index)\n",
    "#Extract the columns, element-wise drop nan, and reset index\n",
    "mv1 = data.iloc[:,306].dropna().reset_index(drop = True)\n",
    "mv2 = data.iloc[:,172].dropna().reset_index(drop = True)\n",
    "mv3 = data.iloc[:,35].dropna().reset_index(drop = True)"
   ]
  },
  {
   "cell_type": "code",
   "execution_count": 231,
   "id": "47b8bf39",
   "metadata": {},
   "outputs": [
    {
     "name": "stdout",
     "output_type": "stream",
     "text": [
      "100837.5 2.1376654433729527e-07\n",
      "65932.5 0.24981112383243775\n"
     ]
    }
   ],
   "source": [
    "#Add the cleaned ratings into a single array\n",
    "series_rating = [mv1,mv2,mv3]\n",
    "\n",
    "#Use loop to do several hypothesis tests simultaneously \n",
    "for i in range(len(series_rating)-1):\n",
    "    u,p = stats.mannwhitneyu(series_rating[i],series_rating[i+1])\n",
    "    print(u,p)\n",
    "    "
   ]
  },
  {
   "cell_type": "code",
   "execution_count": 234,
   "id": "33aaf776",
   "metadata": {},
   "outputs": [
    {
     "data": {
      "text/plain": [
       "(100837.5, 1.0688327216864763e-07)"
      ]
     },
     "execution_count": 234,
     "metadata": {},
     "output_type": "execute_result"
    }
   ],
   "source": [
    "#Note that the ratings between the first and second movies are inconsistent\n",
    "#Do one-sided tests\n",
    "u,p = stats.mannwhitneyu(series_rating[0],series_rating[1], alternative = 'greater')\n",
    "u,p\n",
    "#Viewers' experience of 'The Matrix' series dropped after the first movie."
   ]
  },
  {
   "cell_type": "code",
   "execution_count": 237,
   "id": "1faec559",
   "metadata": {},
   "outputs": [
    {
     "name": "stdout",
     "output_type": "stream",
     "text": [
      "Indiana Jones and the Last Crusade (1989) (array([4]),)\n",
      "Indiana Jones and the Temple of Doom (1984) (array([32]),)\n",
      "Indiana Jones and the Raiders of the Lost Ark (1981) (array([33]),)\n",
      "Indiana Jones and the Kingdom of the Crystal Skull (2008) (array([142]),)\n"
     ]
    }
   ],
   "source": [
    "#Indiana Jones\n",
    "#Find the movies\n",
    "movie = 'Indiana Jones'\n",
    "series = []\n",
    "for i in range(len(movieName)):\n",
    "    if movie in movieName[i]:\n",
    "        series.append(movieName[i])\n",
    "#Find the column of each movie\n",
    "for i in series:\n",
    "    index = np.where(movieName==i)\n",
    "    print(i, index)\n",
    "#Extract the columns, element-wise drop nan, and reset index\n",
    "mv1 = data.iloc[:,33].dropna().reset_index(drop = True)\n",
    "mv2 = data.iloc[:,32].dropna().reset_index(drop = True)\n",
    "mv3 = data.iloc[:,4].dropna().reset_index(drop = True)\n",
    "mv4 = data.iloc[:,142].dropna().reset_index(drop = True)"
   ]
  },
  {
   "cell_type": "code",
   "execution_count": 238,
   "id": "71e95169",
   "metadata": {},
   "outputs": [
    {
     "name": "stdout",
     "output_type": "stream",
     "text": [
      "97240.0 1.8017248346687264e-05\n",
      "107144.0 0.3070842227239434\n",
      "120933.0 0.00017791395232999937\n"
     ]
    }
   ],
   "source": [
    "#Add the cleaned ratings into a single array\n",
    "series_rating = [mv1,mv2,mv3,mv4]\n",
    "\n",
    "#Use loop to do several hypothesis tests simultaneously \n",
    "for i in range(len(series_rating)-1):\n",
    "    u,p = stats.mannwhitneyu(series_rating[i],series_rating[i+1])\n",
    "    print(u,p)"
   ]
  },
  {
   "cell_type": "code",
   "execution_count": 242,
   "id": "346bfbc4",
   "metadata": {},
   "outputs": [
    {
     "data": {
      "text/plain": [
       "(97240.0, 9.008624173343632e-06)"
      ]
     },
     "execution_count": 242,
     "metadata": {},
     "output_type": "execute_result"
    }
   ],
   "source": [
    "#Note that the ratings between the first and second, third and forth movies are inconsistent\n",
    "#Do one-sided tests\n",
    "u,p = stats.mannwhitneyu(series_rating[0],series_rating[1], alternative = 'greater')\n",
    "u,p\n",
    "#Viewers' experience of the second Indiana Jones movie dropped."
   ]
  },
  {
   "cell_type": "code",
   "execution_count": 240,
   "id": "5577c286",
   "metadata": {},
   "outputs": [
    {
     "data": {
      "text/plain": [
       "(120933.0, 8.895697616499968e-05)"
      ]
     },
     "execution_count": 240,
     "metadata": {},
     "output_type": "execute_result"
    }
   ],
   "source": [
    "#Note that the ratings between the third and forth, fifth and sixth movies are inconsistent\n",
    "#Do one-sided tests\n",
    "u,p = stats.mannwhitneyu(series_rating[2],series_rating[3], alternative = 'greater')\n",
    "u,p\n",
    "#Viewers' experience of the forth Indiana Jones movie dropped again."
   ]
  },
  {
   "cell_type": "code",
   "execution_count": 244,
   "id": "e432f113",
   "metadata": {},
   "outputs": [
    {
     "name": "stdout",
     "output_type": "stream",
     "text": [
      "The Lost World: Jurassic Park (1997) (array([37]),)\n",
      "Jurassic Park III (2001) (array([47]),)\n",
      "Jurassic Park (1993) (array([370]),)\n"
     ]
    }
   ],
   "source": [
    "#Jurassic Park\n",
    "#Find the movies\n",
    "movie = 'Jurassic Park'\n",
    "series = []\n",
    "for i in range(len(movieName)):\n",
    "    if movie in movieName[i]:\n",
    "        series.append(movieName[i])\n",
    "#Find the column of each movie\n",
    "for i in series:\n",
    "    index = np.where(movieName==i)\n",
    "    print(i, index)\n",
    "#Extract the columns, element-wise drop nan, and reset index\n",
    "mv1 = data.iloc[:,370].dropna().reset_index(drop = True)\n",
    "mv2 = data.iloc[:,37].dropna().reset_index(drop = True)\n",
    "mv3 = data.iloc[:,47].dropna().reset_index(drop = True)"
   ]
  },
  {
   "cell_type": "code",
   "execution_count": 245,
   "id": "01c057d1",
   "metadata": {},
   "outputs": [
    {
     "name": "stdout",
     "output_type": "stream",
     "text": [
      "188684.0 0.0006738642151062385\n",
      "169371.5 0.00027537558821442277\n"
     ]
    }
   ],
   "source": [
    "#Add the cleaned ratings into a single array \n",
    "series_rating = [mv1,mv2,mv3]\n",
    "\n",
    "#Use loop to do several hypothesis tests simultaneously \n",
    "for i in range(len(series_rating)-1):\n",
    "    u,p = stats.mannwhitneyu(series_rating[i],series_rating[i+1])\n",
    "    print(u,p)"
   ]
  },
  {
   "cell_type": "code",
   "execution_count": 246,
   "id": "84e583ff",
   "metadata": {},
   "outputs": [
    {
     "data": {
      "text/plain": [
       "(188684.0, 0.00033693210755311926)"
      ]
     },
     "execution_count": 246,
     "metadata": {},
     "output_type": "execute_result"
    }
   ],
   "source": [
    "#Note that the ratings between the first and second, second and third movies are inconsistent\n",
    "#Do one-sided tests\n",
    "u,p = stats.mannwhitneyu(series_rating[0],series_rating[1], alternative = 'greater')\n",
    "u,p\n",
    "#Viewers' experience of the second Jurassic Park movie dropped."
   ]
  },
  {
   "cell_type": "code",
   "execution_count": 247,
   "id": "f4188dd5",
   "metadata": {},
   "outputs": [
    {
     "data": {
      "text/plain": [
       "(169371.5, 0.00013768779410721138)"
      ]
     },
     "execution_count": 247,
     "metadata": {},
     "output_type": "execute_result"
    }
   ],
   "source": [
    "#Note that the ratings between the first and second, second and third movies are inconsistent\n",
    "#Do one-sided tests\n",
    "u,p = stats.mannwhitneyu(series_rating[1],series_rating[2], alternative = 'greater')\n",
    "u,p\n",
    "#Viewers' experience of the third Jurassic Park movie dropped again."
   ]
  },
  {
   "cell_type": "code",
   "execution_count": 249,
   "id": "fbfea5c5",
   "metadata": {},
   "outputs": [
    {
     "name": "stdout",
     "output_type": "stream",
     "text": [
      "Pirates of the Caribbean: Dead Man's Chest (2006) (array([75]),)\n",
      "Pirates of the Caribbean: At World's End (2007) (array([204]),)\n",
      "Pirates of the Caribbean: The Curse of the Black Pearl (2003) (array([351]),)\n"
     ]
    }
   ],
   "source": [
    "#Pirates of the Caribbean\n",
    "#Find the movies\n",
    "movie = 'Pirates of the Caribbean'\n",
    "series = []\n",
    "for i in range(len(movieName)):\n",
    "    if movie in movieName[i]:\n",
    "        series.append(movieName[i])\n",
    "#Find the column of each movie\n",
    "for i in series:\n",
    "    index = np.where(movieName==i)\n",
    "    print(i, index)\n",
    "#Extract the columns, element-wise drop nan, and reset index\n",
    "mv1 = data.iloc[:,351].dropna().reset_index(drop = True)\n",
    "mv2 = data.iloc[:,75].dropna().reset_index(drop = True)\n",
    "mv3 = data.iloc[:,204].dropna().reset_index(drop = True)"
   ]
  },
  {
   "cell_type": "code",
   "execution_count": 250,
   "id": "5efb6ff2",
   "metadata": {},
   "outputs": [
    {
     "name": "stdout",
     "output_type": "stream",
     "text": [
      "308667.0 8.817372076227087e-06\n",
      "258329.5 0.25147758276137844\n"
     ]
    }
   ],
   "source": [
    "#Add the cleaned ratings into a single array\n",
    "series_rating = [mv1,mv2,mv3]\n",
    "\n",
    "#Use loop to do several hypothesis tests simultaneously \n",
    "for i in range(len(series_rating)-1):\n",
    "    u,p = stats.mannwhitneyu(series_rating[i],series_rating[i+1])\n",
    "    print(u,p)"
   ]
  },
  {
   "cell_type": "code",
   "execution_count": 251,
   "id": "de3febe9",
   "metadata": {},
   "outputs": [
    {
     "data": {
      "text/plain": [
       "(308667.0, 4.408686038113543e-06)"
      ]
     },
     "execution_count": 251,
     "metadata": {},
     "output_type": "execute_result"
    }
   ],
   "source": [
    "#Note that the ratings between the first and second movies are inconsistent\n",
    "#Do one-sided tests\n",
    "u,p = stats.mannwhitneyu(series_rating[0],series_rating[1], alternative = 'greater')\n",
    "u,p\n",
    "#Viewers' experience of 'Pirates of the Caribbean' series dropped after the first movie."
   ]
  },
  {
   "cell_type": "code",
   "execution_count": 253,
   "id": "2c522de4",
   "metadata": {},
   "outputs": [
    {
     "name": "stdout",
     "output_type": "stream",
     "text": [
      "Toy Story 2 (1999) (array([157]),)\n",
      "Toy Story 3 (2010) (array([171]),)\n",
      "Toy Story (1995) (array([276]),)\n"
     ]
    }
   ],
   "source": [
    "#Toy Story\n",
    "#Find the movies\n",
    "movie = 'Toy Story'\n",
    "series = []\n",
    "for i in range(len(movieName)):\n",
    "    if movie in movieName[i]:\n",
    "        series.append(movieName[i])\n",
    "#Find the column of each movie\n",
    "for i in series:\n",
    "    index = np.where(movieName==i)\n",
    "    print(i, index)\n",
    "#Extract the columns, element-wise drop nan, and reset index\n",
    "mv1 = data.iloc[:,276].dropna().reset_index(drop = True)\n",
    "mv2 = data.iloc[:,157].dropna().reset_index(drop = True)\n",
    "mv3 = data.iloc[:,171].dropna().reset_index(drop = True)"
   ]
  },
  {
   "cell_type": "code",
   "execution_count": 254,
   "id": "8c860df6",
   "metadata": {},
   "outputs": [
    {
     "name": "stdout",
     "output_type": "stream",
     "text": [
      "472908.0 6.329730946125958e-06\n",
      "356610.0 8.408513827408602e-05\n"
     ]
    }
   ],
   "source": [
    "#Add the cleaned ratings into a single array\n",
    "series_rating = [mv1,mv2,mv3]\n",
    "\n",
    "#Use loop to do several hypothesis tests simultaneously \n",
    "for i in range(len(series_rating)-1):\n",
    "    u,p = stats.mannwhitneyu(series_rating[i],series_rating[i+1])\n",
    "    print(u,p)"
   ]
  },
  {
   "cell_type": "code",
   "execution_count": 255,
   "id": "0b2621dd",
   "metadata": {},
   "outputs": [
    {
     "data": {
      "text/plain": [
       "(472908.0, 3.164865473062979e-06)"
      ]
     },
     "execution_count": 255,
     "metadata": {},
     "output_type": "execute_result"
    }
   ],
   "source": [
    "#Note that the ratings between the first and second, second and third movies are inconsistent\n",
    "#Do one-sided tests\n",
    "u,p = stats.mannwhitneyu(series_rating[0],series_rating[1], alternative = 'greater')\n",
    "u,p\n",
    "#Viewers' experience of the second Toy Story movie dropped."
   ]
  },
  {
   "cell_type": "code",
   "execution_count": 257,
   "id": "7a3e3e7f",
   "metadata": {},
   "outputs": [
    {
     "data": {
      "text/plain": [
       "(356610.0, 4.204256913704301e-05)"
      ]
     },
     "execution_count": 257,
     "metadata": {},
     "output_type": "execute_result"
    }
   ],
   "source": [
    "#Note that the ratings between the first and second, second and third movies are inconsistent\n",
    "#Do one-sided tests\n",
    "u,p = stats.mannwhitneyu(series_rating[1],series_rating[2], alternative = 'less')\n",
    "u,p\n",
    "#Viewers' experience of the third Toy Story movie improved."
   ]
  },
  {
   "cell_type": "code",
   "execution_count": 259,
   "id": "055a653a",
   "metadata": {},
   "outputs": [
    {
     "name": "stdout",
     "output_type": "stream",
     "text": [
      "Batman & Robin (1997) (array([46]),)\n",
      "Batman (1989) (array([181]),)\n",
      "Batman: The Dark Knight (2008) (array([235]),)\n"
     ]
    }
   ],
   "source": [
    "#Batman\n",
    "#Find the movies\n",
    "movie = 'Batman'\n",
    "series = []\n",
    "for i in range(len(movieName)):\n",
    "    if movie in movieName[i]:\n",
    "        series.append(movieName[i])\n",
    "#Find the column of each movie\n",
    "for i in series:\n",
    "    index = np.where(movieName==i)\n",
    "    print(i, index)\n",
    "#Extract the columns, element-wise drop nan, and reset index\n",
    "mv1 = data.iloc[:,181].dropna().reset_index(drop = True)\n",
    "mv2 = data.iloc[:,46].dropna().reset_index(drop = True)\n",
    "mv3 = data.iloc[:,235].dropna().reset_index(drop = True)"
   ]
  },
  {
   "cell_type": "code",
   "execution_count": 260,
   "id": "a4428118",
   "metadata": {},
   "outputs": [
    {
     "name": "stdout",
     "output_type": "stream",
     "text": [
      "81864.5 1.5631433682224575e-09\n",
      "63650.5 4.5301045329475817e-39\n"
     ]
    }
   ],
   "source": [
    "#Add the cleaned ratings into a single array\n",
    "series_rating = [mv1,mv2,mv3]\n",
    "\n",
    "#Use loop to do several hypothesis tests simultaneously \n",
    "for i in range(len(series_rating)-1):\n",
    "    u,p = stats.mannwhitneyu(series_rating[i],series_rating[i+1])\n",
    "    print(u,p)"
   ]
  },
  {
   "cell_type": "code",
   "execution_count": 261,
   "id": "b38dd494",
   "metadata": {},
   "outputs": [
    {
     "data": {
      "text/plain": [
       "(81864.5, 7.815716841112287e-10)"
      ]
     },
     "execution_count": 261,
     "metadata": {},
     "output_type": "execute_result"
    }
   ],
   "source": [
    "#Note that the ratings between the first and second, second and third movies are inconsistent\n",
    "#Do one-sided tests\n",
    "u,p = stats.mannwhitneyu(series_rating[0],series_rating[1], alternative = 'greater')\n",
    "u,p\n",
    "#Viewers' experience of the second Batman movie dropped."
   ]
  },
  {
   "cell_type": "code",
   "execution_count": 263,
   "id": "9d2bb010",
   "metadata": {},
   "outputs": [
    {
     "data": {
      "text/plain": [
       "(63650.5, 2.2650522664737908e-39)"
      ]
     },
     "execution_count": 263,
     "metadata": {},
     "output_type": "execute_result"
    }
   ],
   "source": [
    "#Note that the ratings between the first and second, second and third movies are inconsistent\n",
    "#Do one-sided tests\n",
    "u,p = stats.mannwhitneyu(series_rating[1],series_rating[2], alternative = 'less')\n",
    "u,p\n",
    "#Viewers' experience of the third Batman movie improved."
   ]
  },
  {
   "cell_type": "markdown",
   "id": "64d3e2b7",
   "metadata": {},
   "source": [
    "## 8) Build a prediction model of your choice (regression or supervised learning) to predict movie ratings (for all 400 movies) from personality factors only. Make sure to use cross-validation methods to avoid overfitting and characterize the accuracy of your model."
   ]
  },
  {
   "cell_type": "code",
   "execution_count": 329,
   "id": "456ea75d",
   "metadata": {},
   "outputs": [
    {
     "name": "stderr",
     "output_type": "stream",
     "text": [
      "/Users/kd/opt/anaconda3/lib/python3.9/site-packages/sklearn/impute/_iterative.py:685: ConvergenceWarning: [IterativeImputer] Early stopping criterion not reached.\n",
      "  warnings.warn(\"[IterativeImputer] Early stopping criterion not\"\n"
     ]
    },
    {
     "data": {
      "text/html": [
       "<div>\n",
       "<style scoped>\n",
       "    .dataframe tbody tr th:only-of-type {\n",
       "        vertical-align: middle;\n",
       "    }\n",
       "\n",
       "    .dataframe tbody tr th {\n",
       "        vertical-align: top;\n",
       "    }\n",
       "\n",
       "    .dataframe thead th {\n",
       "        text-align: right;\n",
       "    }\n",
       "</style>\n",
       "<table border=\"1\" class=\"dataframe\">\n",
       "  <thead>\n",
       "    <tr style=\"text-align: right;\">\n",
       "      <th></th>\n",
       "      <th>0</th>\n",
       "      <th>1</th>\n",
       "      <th>2</th>\n",
       "      <th>3</th>\n",
       "      <th>4</th>\n",
       "      <th>5</th>\n",
       "      <th>6</th>\n",
       "      <th>7</th>\n",
       "      <th>8</th>\n",
       "      <th>9</th>\n",
       "      <th>...</th>\n",
       "      <th>467</th>\n",
       "      <th>468</th>\n",
       "      <th>469</th>\n",
       "      <th>470</th>\n",
       "      <th>471</th>\n",
       "      <th>472</th>\n",
       "      <th>473</th>\n",
       "      <th>474</th>\n",
       "      <th>475</th>\n",
       "      <th>476</th>\n",
       "    </tr>\n",
       "  </thead>\n",
       "  <tbody>\n",
       "    <tr>\n",
       "      <th>0</th>\n",
       "      <td>2.060089</td>\n",
       "      <td>1.219609</td>\n",
       "      <td>4.000000</td>\n",
       "      <td>3.452489</td>\n",
       "      <td>3.000000</td>\n",
       "      <td>3.475948</td>\n",
       "      <td>2.856775</td>\n",
       "      <td>1.759794</td>\n",
       "      <td>2.873154</td>\n",
       "      <td>2.469153</td>\n",
       "      <td>...</td>\n",
       "      <td>1.0</td>\n",
       "      <td>6.0</td>\n",
       "      <td>2.0</td>\n",
       "      <td>5.0</td>\n",
       "      <td>5.0</td>\n",
       "      <td>5.0</td>\n",
       "      <td>1.0</td>\n",
       "      <td>1.0</td>\n",
       "      <td>0.0</td>\n",
       "      <td>1.0</td>\n",
       "    </tr>\n",
       "    <tr>\n",
       "      <th>1</th>\n",
       "      <td>2.585111</td>\n",
       "      <td>2.098402</td>\n",
       "      <td>1.500000</td>\n",
       "      <td>1.852190</td>\n",
       "      <td>2.439677</td>\n",
       "      <td>2.953439</td>\n",
       "      <td>2.677461</td>\n",
       "      <td>3.343155</td>\n",
       "      <td>1.715700</td>\n",
       "      <td>2.437288</td>\n",
       "      <td>...</td>\n",
       "      <td>3.0</td>\n",
       "      <td>1.0</td>\n",
       "      <td>1.0</td>\n",
       "      <td>6.0</td>\n",
       "      <td>5.0</td>\n",
       "      <td>3.0</td>\n",
       "      <td>2.0</td>\n",
       "      <td>1.0</td>\n",
       "      <td>0.0</td>\n",
       "      <td>0.0</td>\n",
       "    </tr>\n",
       "    <tr>\n",
       "      <th>2</th>\n",
       "      <td>3.458714</td>\n",
       "      <td>2.792202</td>\n",
       "      <td>3.005196</td>\n",
       "      <td>1.895448</td>\n",
       "      <td>3.108396</td>\n",
       "      <td>2.516230</td>\n",
       "      <td>2.455243</td>\n",
       "      <td>3.078429</td>\n",
       "      <td>2.685970</td>\n",
       "      <td>2.822577</td>\n",
       "      <td>...</td>\n",
       "      <td>5.0</td>\n",
       "      <td>4.0</td>\n",
       "      <td>3.0</td>\n",
       "      <td>5.0</td>\n",
       "      <td>5.0</td>\n",
       "      <td>4.0</td>\n",
       "      <td>4.0</td>\n",
       "      <td>1.0</td>\n",
       "      <td>1.0</td>\n",
       "      <td>0.0</td>\n",
       "    </tr>\n",
       "    <tr>\n",
       "      <th>3</th>\n",
       "      <td>2.404148</td>\n",
       "      <td>1.971983</td>\n",
       "      <td>2.000000</td>\n",
       "      <td>2.023382</td>\n",
       "      <td>3.000000</td>\n",
       "      <td>2.542075</td>\n",
       "      <td>1.446218</td>\n",
       "      <td>3.257445</td>\n",
       "      <td>2.976212</td>\n",
       "      <td>4.000000</td>\n",
       "      <td>...</td>\n",
       "      <td>3.0</td>\n",
       "      <td>1.0</td>\n",
       "      <td>1.0</td>\n",
       "      <td>4.0</td>\n",
       "      <td>5.0</td>\n",
       "      <td>3.0</td>\n",
       "      <td>1.0</td>\n",
       "      <td>1.0</td>\n",
       "      <td>0.0</td>\n",
       "      <td>1.0</td>\n",
       "    </tr>\n",
       "    <tr>\n",
       "      <th>4</th>\n",
       "      <td>1.561322</td>\n",
       "      <td>2.241729</td>\n",
       "      <td>3.500000</td>\n",
       "      <td>1.197154</td>\n",
       "      <td>0.500000</td>\n",
       "      <td>2.262482</td>\n",
       "      <td>0.500000</td>\n",
       "      <td>1.000000</td>\n",
       "      <td>2.089817</td>\n",
       "      <td>0.000000</td>\n",
       "      <td>...</td>\n",
       "      <td>2.0</td>\n",
       "      <td>3.0</td>\n",
       "      <td>2.0</td>\n",
       "      <td>5.0</td>\n",
       "      <td>6.0</td>\n",
       "      <td>4.0</td>\n",
       "      <td>4.0</td>\n",
       "      <td>1.0</td>\n",
       "      <td>1.0</td>\n",
       "      <td>1.0</td>\n",
       "    </tr>\n",
       "  </tbody>\n",
       "</table>\n",
       "<p>5 rows × 477 columns</p>\n",
       "</div>"
      ],
      "text/plain": [
       "        0         1         2         3         4         5         6    \\\n",
       "0  2.060089  1.219609  4.000000  3.452489  3.000000  3.475948  2.856775   \n",
       "1  2.585111  2.098402  1.500000  1.852190  2.439677  2.953439  2.677461   \n",
       "2  3.458714  2.792202  3.005196  1.895448  3.108396  2.516230  2.455243   \n",
       "3  2.404148  1.971983  2.000000  2.023382  3.000000  2.542075  1.446218   \n",
       "4  1.561322  2.241729  3.500000  1.197154  0.500000  2.262482  0.500000   \n",
       "\n",
       "        7         8         9    ...  467  468  469  470  471  472  473  474  \\\n",
       "0  1.759794  2.873154  2.469153  ...  1.0  6.0  2.0  5.0  5.0  5.0  1.0  1.0   \n",
       "1  3.343155  1.715700  2.437288  ...  3.0  1.0  1.0  6.0  5.0  3.0  2.0  1.0   \n",
       "2  3.078429  2.685970  2.822577  ...  5.0  4.0  3.0  5.0  5.0  4.0  4.0  1.0   \n",
       "3  3.257445  2.976212  4.000000  ...  3.0  1.0  1.0  4.0  5.0  3.0  1.0  1.0   \n",
       "4  1.000000  2.089817  0.000000  ...  2.0  3.0  2.0  5.0  6.0  4.0  4.0  1.0   \n",
       "\n",
       "   475  476  \n",
       "0  0.0  1.0  \n",
       "1  0.0  0.0  \n",
       "2  1.0  0.0  \n",
       "3  0.0  1.0  \n",
       "4  1.0  1.0  \n",
       "\n",
       "[5 rows x 477 columns]"
      ]
     },
     "execution_count": 329,
     "metadata": {},
     "output_type": "execute_result"
    }
   ],
   "source": [
    "#Impute missing ratings use multivariate imputer\n",
    "from sklearn.experimental import enable_iterative_imputer\n",
    "from sklearn.impute import IterativeImputer\n",
    "\n",
    "imp_mean = IterativeImputer(random_state=0)\n",
    "imp_mean.fit(data)\n",
    "data_imputed = data\n",
    "data_imputed = imp_mean.transform(data_imputed)\n",
    "\n",
    "data_imputed_df = pd.DataFrame(data_imputed)\n",
    "data_imputed_df.head()"
   ]
  },
  {
   "cell_type": "code",
   "execution_count": 333,
   "id": "5c650e4b",
   "metadata": {},
   "outputs": [],
   "source": [
    "#Generate the movie rating data and personality data\n",
    "movies_imputed = data_imputed_df.iloc[:,0:400]\n",
    "personality_imputed = data_imputed_df.iloc[:,420:464]"
   ]
  },
  {
   "cell_type": "code",
   "execution_count": 355,
   "id": "e7a875f7",
   "metadata": {},
   "outputs": [
    {
     "data": {
      "text/plain": [
       "0.7776553777395455"
      ]
     },
     "execution_count": 355,
     "metadata": {},
     "output_type": "execute_result"
    }
   ],
   "source": [
    "#Cross validation and Linear Regression\n",
    "from sklearn.model_selection import train_test_split\n",
    "from sklearn.linear_model import LinearRegression\n",
    "\n",
    "#Seperate training and testing data (7:3)\n",
    "X_train, X_test, y_train, y_test = train_test_split(personality_imputed, movies_imputed, test_size=0.3, random_state=42)\n",
    "\n",
    "#Create linear regression model using training set\n",
    "regr = LinearRegression()\n",
    "regr.fit(X_train, y_train)\n",
    "\n",
    "#Use the model above to predict the test set\n",
    "y_test_bar = regr.predict(X_test) \n",
    "\n",
    "#Compute the rmse\n",
    "from sklearn.metrics import mean_squared_error\n",
    "import math\n",
    "rmse = math.sqrt(mean_squared_error(y_test, y_test_bar))\n",
    "\n",
    "rmse"
   ]
  },
  {
   "cell_type": "markdown",
   "id": "20f50526",
   "metadata": {},
   "source": [
    "## 9) Build a prediction model of your choice (regression or supervised learning) to predict movie ratings (for all 400 movies) from gender identity, sibship status and social viewing preferences (columns 475-477) only. Make sure to use cross-validation methods to avoid overfitting and characterize the accuracy of your model."
   ]
  },
  {
   "cell_type": "code",
   "execution_count": 350,
   "id": "04cf50a9",
   "metadata": {},
   "outputs": [],
   "source": [
    "#Generate the gender identity,sibship status and social viewing preferences columns\n",
    "GSS_imputed = data_imputed_df.iloc[:,474:477]"
   ]
  },
  {
   "cell_type": "code",
   "execution_count": 361,
   "id": "c954d7a8",
   "metadata": {},
   "outputs": [
    {
     "data": {
      "text/plain": [
       "0.8058700880419042"
      ]
     },
     "execution_count": 361,
     "metadata": {},
     "output_type": "execute_result"
    }
   ],
   "source": [
    "#Cross validation and Linear regresssion\n",
    "#Seperate training and testing data (7:3)\n",
    "X_train, X_test, y_train, y_test = train_test_split(GSS_imputed, \n",
    "                                                    movies_imputed, \n",
    "                                                    test_size=0.3, \n",
    "                                                    random_state=42)\n",
    "\n",
    "#Create linear regression model using training set\n",
    "regr = LinearRegression()\n",
    "regr.fit(X_train, y_train)\n",
    "\n",
    "#Use the model above to predict the test set\n",
    "y_test_bar = regr.predict(X_test) \n",
    "\n",
    "#Compute the rmse\n",
    "from sklearn.metrics import mean_squared_error\n",
    "import math\n",
    "rmse = math.sqrt(mean_squared_error(y_test, y_test_bar))\n",
    "\n",
    "rmse"
   ]
  },
  {
   "cell_type": "markdown",
   "id": "e0bb2bd5",
   "metadata": {},
   "source": [
    "## 10) Build a prediction model of your choice (regression or supervised learning) to predict movie ratings (for all 400 movies) from all available factors that are not movie ratings (columns 401- 477). Make sure to use cross-validation methods to avoid overfitting and characterize the accuracy of your model.\n"
   ]
  },
  {
   "cell_type": "code",
   "execution_count": 362,
   "id": "bf71b819",
   "metadata": {},
   "outputs": [],
   "source": [
    "#Generate the columns\n",
    "all_imputed = data_imputed_df.iloc[:,400:477]"
   ]
  },
  {
   "cell_type": "code",
   "execution_count": 363,
   "id": "0d565c5f",
   "metadata": {},
   "outputs": [
    {
     "data": {
      "text/plain": [
       "0.7328587349472734"
      ]
     },
     "execution_count": 363,
     "metadata": {},
     "output_type": "execute_result"
    }
   ],
   "source": [
    "#Cross validation and Linear regresssion\n",
    "#Seperate training and testing data (7:3)\n",
    "X_train, X_test, y_train, y_test = train_test_split(all_imputed, movies_imputed, test_size=0.3, random_state=42)\n",
    "\n",
    "#Create linear regression model using training set\n",
    "regr = LinearRegression()\n",
    "regr.fit(X_train, y_train)\n",
    "\n",
    "#Use the model above to predict the test set\n",
    "y_test_bar = regr.predict(X_test) \n",
    "\n",
    "#Compute the rmse\n",
    "from sklearn.metrics import mean_squared_error\n",
    "import math\n",
    "rmse = math.sqrt(mean_squared_error(y_test, y_test_bar))\n",
    "\n",
    "rmse"
   ]
  },
  {
   "cell_type": "code",
   "execution_count": null,
   "id": "1bfb05dc",
   "metadata": {},
   "outputs": [],
   "source": []
  }
 ],
 "metadata": {
  "kernelspec": {
   "display_name": "Python 3 (ipykernel)",
   "language": "python",
   "name": "python3"
  },
  "language_info": {
   "codemirror_mode": {
    "name": "ipython",
    "version": 3
   },
   "file_extension": ".py",
   "mimetype": "text/x-python",
   "name": "python",
   "nbconvert_exporter": "python",
   "pygments_lexer": "ipython3",
   "version": "3.9.7"
  }
 },
 "nbformat": 4,
 "nbformat_minor": 5
}
